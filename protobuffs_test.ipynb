{
 "cells": [
  {
   "cell_type": "code",
   "execution_count": 7,
   "metadata": {},
   "outputs": [],
   "source": [
    "import metadata_pb2\n",
    "\n",
    "sess = metadata_pb2.Session()\n",
    "sess.bird = sess.BirdType.STARLING  # UNKNOWN(0), ZEBRA(1), STARLING(2), BENGALESE(3)\n",
    "sess.bird_uid = 's_b1188_20'        # string\n",
    "sess.date = '2020-12-01'            # string\n",
    "sess.weight = 89.5                  # float\n",
    "sess.testosterone = True            # bool\n",
    "sess.cuervecito_box = 13            # int32\n",
    "sess.details.append('details1')     # repeated string\n",
    "sess.details.append('details2')\n",
    "\n",
    "#EXPERIMENT\n",
    "experiment = sess.procedure.add()\n",
    "experiment.experiment_type = experiment.ExperimentType.HABITUATION # HABITUATION(0), CHRONIC_HVC(1), CHRONIC_RA(2), CHRONIC_HVCRA(3), ACUTE_HVC(4), ACUTE_RA(5), ACUTE_HVCRA(6)  \n",
    "experiment.ephys_harware = experiment.EphysHardware.OPENEPHYS      # UNKNOWN_EPHYSHARDWARE(0), OPENEPHYS(1), INTAN(2), NI(3)\n",
    "experiment.ephys_software = experiment.EphysSoftware.OPEPHYS       # UNKNOWN_EPHYSSOFTWARE(0), SPIKEGLX(1), OPEPHYS(2), OPEPHYS_PLUS(3)\n",
    "experiment.headstage = 'intan 32 channel'                          # string\n",
    "\n",
    "# STIMULUS\n",
    "stim = experiment.stimuli.add()\n",
    "stim.stimulus_type = stim.StimulusType.VIDEO_RECORDED              # UNKNOWN_STIMULUS(0), UNDIRECTED(1), DIRECTED(2), VIDEO_RECORDED(3), VIDEO_LIVE(4), SONG_REPLAY(5)\n",
    "stim.details.append('3 females video every hour 7am-7pm.')\n",
    "\n",
    "# PROBE 1\n",
    "probe = experiment.probes.add()\n",
    "probe.mfg = probe.ProbeManufacturer.NEURONEXUS # UNKNOWN(0), NEURONEXUS(1), NEUROPIXEL(2)\n",
    "probe.serial_number = '123456'                 # string\n",
    "probe.num_channels = 32                        # int32\n",
    "probe.tip_depth_microns = 3000                 # int32\n",
    "probe.hemisphere = probe.BrainHemisphere.RIGHT # UNKNOWN_BRAINHEMISPHERE(0), RIGHT(1), LEFT(2)\n",
    "probe.brain_nucleus = probe.BrainNucleus.RA    # UNKNOWN_BRAINNUCLEUS(0), HVC(1), RA(2), HVC_RA(3)\n",
    "\n",
    "# PROBE 2\n",
    "probe = experiment.probes.add()\n",
    "probe.mfg = probe.ProbeManufacturer.NEUROPIXEL \n",
    "probe.serial_number = '123456'                \n",
    "probe.num_channels = 374                      \n",
    "probe.tip_depth_microns = 3000           \n",
    "probe.hemisphere = probe.BrainHemisphere.LEFT     \n",
    "probe.brain_nucleus = probe.BrainNucleus.HVC_RA\n"
   ]
  },
  {
   "cell_type": "code",
   "execution_count": 8,
   "metadata": {},
   "outputs": [
    {
     "name": "stdout",
     "output_type": "stream",
     "text": [
      "bird: STARLING\n",
      "bird_uid: \"s_b1188_20\"\n",
      "date: \"2020-12-01\"\n",
      "weight: 89.5\n",
      "testosterone: true\n",
      "cuervecito_box: 13\n",
      "details: \"details1\"\n",
      "details: \"details2\"\n",
      "procedure {\n",
      "  experiment_type: HABITUATION\n",
      "  stimuli {\n",
      "    stimulus_type: VIDEO_RECORDED\n",
      "    details: \"3 females video every hour 7am-7pm.\"\n",
      "  }\n",
      "  ephys_harware: OPENEPHYS\n",
      "  ephys_software: OPEPHYS\n",
      "  headstage: \"intan 32 channel\"\n",
      "  probes {\n",
      "    mfg: NEURONEXUS\n",
      "    serial_number: \"123456\"\n",
      "    num_channels: 32\n",
      "    tip_depth_microns: 3000\n",
      "    hemisphere: RIGHT\n",
      "    brain_nucleus: RA\n",
      "  }\n",
      "  probes {\n",
      "    mfg: NEUROPIXEL\n",
      "    serial_number: \"123456\"\n",
      "    num_channels: 374\n",
      "    tip_depth_microns: 3000\n",
      "    hemisphere: LEFT\n",
      "    brain_nucleus: HVC_RA\n",
      "  }\n",
      "}\n",
      "\n"
     ]
    }
   ],
   "source": [
    "print(sess)"
   ]
  },
  {
   "cell_type": "code",
   "execution_count": 9,
   "metadata": {},
   "outputs": [],
   "source": [
    "import sys\n",
    "# Write serialized, binary file with message.\n",
    "f = open('eg_meta_neural.pb', \"wb\")\n",
    "f.write(sess.SerializeToString())\n",
    "f.close()"
   ]
  },
  {
   "cell_type": "code",
   "execution_count": 14,
   "metadata": {},
   "outputs": [],
   "source": [
    "neural_sess = metadata_pb2.Session()\n",
    "f = open('eg_meta_neural.pb', \"rb\")\n",
    "neural_sess.ParseFromString(f.read())\n",
    "f.close()"
   ]
  },
  {
   "cell_type": "code",
   "execution_count": 16,
   "metadata": {},
   "outputs": [
    {
     "data": {
      "text/plain": [
       "bird: STARLING\n",
       "bird_uid: \"s_b1188_20\"\n",
       "date: \"2020-12-01\"\n",
       "weight: 89.5\n",
       "testosterone: true\n",
       "cuervecito_box: 13\n",
       "details: \"details1\"\n",
       "details: \"details2\"\n",
       "procedure {\n",
       "  experiment_type: HABITUATION\n",
       "  stimuli {\n",
       "    stimulus_type: VIDEO_RECORDED\n",
       "    details: \"3 females video every hour 7am-7pm.\"\n",
       "  }\n",
       "  ephys_harware: OPENEPHYS\n",
       "  ephys_software: OPEPHYS\n",
       "  headstage: \"intan 32 channel\"\n",
       "  probes {\n",
       "    mfg: NEURONEXUS\n",
       "    serial_number: \"123456\"\n",
       "    num_channels: 32\n",
       "    tip_depth_microns: 3000\n",
       "    hemisphere: RIGHT\n",
       "    brain_nucleus: RA\n",
       "  }\n",
       "  probes {\n",
       "    mfg: NEUROPIXEL\n",
       "    serial_number: \"123456\"\n",
       "    num_channels: 374\n",
       "    tip_depth_microns: 3000\n",
       "    hemisphere: LEFT\n",
       "    brain_nucleus: HVC_RA\n",
       "  }\n",
       "}"
      ]
     },
     "execution_count": 16,
     "metadata": {},
     "output_type": "execute_result"
    }
   ],
   "source": [
    "neural_sess"
   ]
  },
  {
   "cell_type": "code",
   "execution_count": 17,
   "metadata": {},
   "outputs": [],
   "source": [
    "import metadata_pb2\n",
    "\n",
    "sess = metadata_pb2.Session()\n",
    "sess.bird = sess.BirdType.ZEBRA    # UNKNOWN(0), ZEBRA(1), STARLING(2), BENGALESE(3)\n",
    "sess.bird_uid = 'z_1234_20'        # string\n",
    "sess.date = '2020-12-01'           # string\n",
    "sess.weight = 18.5                 # float\n",
    "sess.testosterone = False          # bool\n",
    "sess.cuervecito_box = 4\n",
    "sess.details.append('box')    # repeated string\n",
    "\n",
    "#EXPERIMENT\n",
    "experiment = sess.procedure.add()\n",
    "experiment.experiment_type = experiment.ExperimentType.HABITUATION # HABITUATION(0), CHRONIC_HVC(1), CHRONIC_RA(2), CHRONIC_HVCRA(3), ACUTE_HVC(4), ACUTE_RA(5), ACUTE_HVCRA(6)  \n",
    "\n",
    "# STIMULUS\n",
    "stim = experiment.stimuli.add()\n",
    "stim.stimulus_type = stim.StimulusType.VIDEO_RECORDED              # UNKNOWN_STIMULUS(0), UNDIRECTED(1), DIRECTED(2), VIDEO_RECORDED(3), VIDEO_LIVE(4), SONG_REPLAY(5)\n",
    "stim.details.append('3 females video every hour 7am-7pm.')\n"
   ]
  },
  {
   "cell_type": "code",
   "execution_count": 18,
   "metadata": {},
   "outputs": [],
   "source": [
    "import sys\n",
    "# Write serialized, binary file with message.\n",
    "f = open('eg_meta_habituation.pb', \"wb\")\n",
    "f.write(sess.SerializeToString())\n",
    "f.close()"
   ]
  },
  {
   "cell_type": "code",
   "execution_count": 19,
   "metadata": {},
   "outputs": [],
   "source": [
    "habit_sess = metadata_pb2.Session()\n",
    "f = open('eg_meta_habituation.pb', \"rb\")\n",
    "habit_sess.ParseFromString(f.read())\n",
    "f.close()"
   ]
  },
  {
   "cell_type": "code",
   "execution_count": 20,
   "metadata": {},
   "outputs": [
    {
     "data": {
      "text/plain": [
       "bird: ZEBRA\n",
       "bird_uid: \"z_1234_20\"\n",
       "date: \"2020-12-01\"\n",
       "weight: 18.5\n",
       "cuervecito_box: 4\n",
       "details: \"box\"\n",
       "procedure {\n",
       "  experiment_type: HABITUATION\n",
       "  stimuli {\n",
       "    stimulus_type: VIDEO_RECORDED\n",
       "    details: \"3 females video every hour 7am-7pm.\"\n",
       "  }\n",
       "}"
      ]
     },
     "execution_count": 20,
     "metadata": {},
     "output_type": "execute_result"
    }
   ],
   "source": [
    "habit_sess"
   ]
  },
  {
   "cell_type": "code",
   "execution_count": null,
   "metadata": {},
   "outputs": [],
   "source": []
  }
 ],
 "metadata": {
  "kernelspec": {
   "display_name": "Python 3",
   "language": "python",
   "name": "python3"
  },
  "language_info": {
   "codemirror_mode": {
    "name": "ipython",
    "version": 3
   },
   "file_extension": ".py",
   "mimetype": "text/x-python",
   "name": "python",
   "nbconvert_exporter": "python",
   "pygments_lexer": "ipython3",
   "version": "3.7.6"
  }
 },
 "nbformat": 4,
 "nbformat_minor": 4
}
