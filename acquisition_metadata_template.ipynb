{
 "cells": [
  {
   "cell_type": "markdown",
   "metadata": {},
   "source": [
    "# Load 1 acquisition"
   ]
  },
  {
   "cell_type": "code",
   "execution_count": 11,
   "metadata": {},
   "outputs": [
    {
     "data": {
      "text/plain": [
       "{'acquisition_hardware': 'uma8-usb',\n",
       " 'acquisition_software': 'alsa',\n",
       " 'sensors': [{'acquisition_signal': 'audio',\n",
       "   'manufacturer': 'miniDSP',\n",
       "   'model': 'uma8raw',\n",
       "   'serial_number': '',\n",
       "   'signal_name': 'audio_raw',\n",
       "   'headstage': '',\n",
       "   'channel_group': '',\n",
       "   'channels': '0-6',\n",
       "   'locations': 'OUT',\n",
       "   'details': ['Positioned in top-back-left and top-front-right corners of the chamber.',\n",
       "    'detalis2']},\n",
       "  {'acquisition_signal': 'audio',\n",
       "   'manufacturer': 'miniDSP',\n",
       "   'model': 'uma8DSP',\n",
       "   'serial_number': 'uma_syn_001',\n",
       "   'signal_name': 'audio_DSP',\n",
       "   'headstage': '',\n",
       "   'channel_group': 'PDM',\n",
       "   'channels': '7-8',\n",
       "   'locations': 'OUT',\n",
       "   'details': ['Positioned in top-back-left and top-front-right corners of the chamber.',\n",
       "    'detalis2']},\n",
       "  {'acquisition_signal': 'sync_imec',\n",
       "   'manufacturer': 'inhouse',\n",
       "   'model': 'uma_syn',\n",
       "   'serial_number': 'uma_syn_001',\n",
       "   'signal_name': 'uma_syn_001',\n",
       "   'headstage': '',\n",
       "   'channel_group': 'PDM',\n",
       "   'channels': '7',\n",
       "   'locations': 'OUT',\n",
       "   'details': ['Positioned in top-back-left and top-front-right corners of the chamber.',\n",
       "    'detalis2']}]}"
      ]
     },
     "execution_count": 11,
     "metadata": {},
     "output_type": "execute_result"
    }
   ],
   "source": [
    "# Acquisition 1: Audio sensor to PC - UMA8 recorded with Alsa\n",
    "sensor_uma8raw = {\n",
    "        'acquisition_signal': \"audio\",                  # audio, audio, pressure, sync, emg, video \n",
    "        'manufacturer': \"miniDSP\",                      # miniDSP, earthworks, fujikura, inhouse, inhouse\n",
    "        'model': \"uma8raw\",                             # uma8, m30, fhm-20, uma8_sync, emg_amp_inhouse\n",
    "        'serial_number': '',                            # '', '', '', uma_syn_001, emg_amp_001\n",
    "        'signal_name': \"audio_raw\",                     # uma_syn_001, pressure, syn_uma8, emg, syn_stim, stim, …\n",
    "        'headstage': '',                                # '', '', intan32, \", intan32\n",
    "        'channel_group': '',                            # '', AIN, port_0, DIN, port_1\n",
    "        'channels': \"0-6\",                              # '', [0], [aux_0], [0], [aux_0, aux_1]\n",
    "        'locations': \"OUT\",                             # left, right, tracheal rings, muscles...\n",
    "        'details': [\"Positioned in top-back-left and top-front-right corners of the chamber.\", \"detalis2\"] # repeated string\n",
    "}\n",
    "sensor_uma8dsp = {\n",
    "        'acquisition_signal': \"audio\",                  # audio, audio, pressure, sync, emg, video \n",
    "        'manufacturer': \"miniDSP\",                          # miniDSP, earthworks, fujikura, inhouse, inhouse\n",
    "        'model': \"uma8DSP\",                                 # uma8, m30, fhm-20, uma8_sync, emg_amp_inhouse\n",
    "        'serial_number': \"uma_syn_001\",                     # '', '', '', uma_syn_001, emg_amp_001\n",
    "        'signal_name': \"audio_DSP\",                       # uma_syn_001, pressure, syn_uma8, emg, syn_stim, stim, …\n",
    "        'headstage': '',                                  # '', '', intan32, \", intan32\n",
    "        'channel_group': \"PDM\",                             # '', AIN, port_0, DIN, port_1\n",
    "        'channels': \"7-8\",                                    # '', [0], [aux_0], [0], [aux_0, aux_1]\n",
    "        'locations': \"OUT\",                                 # left, right, tracheal rings, muscles...\n",
    "        'details': [\"Positioned in top-back-left and top-front-right corners of the chamber.\", \"detalis2\"] # repeated string\n",
    "}  \n",
    "sensor_uma8syn = {\n",
    "        'acquisition_signal': \"sync_imec\",                  # audio, audio, pressure, sync, emg, video \n",
    "        'manufacturer': \"inhouse\",                          # miniDSP, earthworks, fujikura, inhouse, inhouse\n",
    "        'model': \"uma_syn\",                                 # uma8, m30, fhm-20, uma8_sync, emg_amp_inhouse\n",
    "        'serial_number': \"uma_syn_001\",                     # '', '', '', uma_syn_001, emg_amp_001\n",
    "        'signal_name': \"uma_syn_001\",                       # uma_syn_001, pressure, syn_uma8, emg, syn_stim, stim, …\n",
    "        'headstage': '',                                  # '', '', intan32, \", intan32\n",
    "        'channel_group': \"PDM\",                             # '', AIN, port_0, DIN, port_1\n",
    "        'channels': \"7\",                                    # '', [0], [aux_0], [0], [aux_0, aux_1]\n",
    "        'locations': \"OUT\",                                 # left, right, tracheal rings, muscles...\n",
    "        'details': [\"Positioned in top-back-left and top-front-right corners of the chamber.\", \"detalis2\"] # repeated string\n",
    "}  \n",
    "acquisition_alsa = {  \n",
    "    'acquisition_hardware': \"uma8-usb\", # openephys, intan, spikeglx, uma8, raspi, any custom amp\n",
    "    'acquisition_software': \"alsa\", # openephys, openephys++, spikeglx, alsa, vlc\n",
    "    'sensors': [sensor_uma8raw, sensor_uma8dsp, sensor_uma8syn]            # repeated 'sensor message'\n",
    "}\n",
    "\n",
    "acquisition_alsa\n",
    "\n",
    "# import pickle\n",
    "# with open('acquisition_metadata.pickle', 'wb') as file:\n",
    "#     pickle.dump(acquisition_alsa, file, protocol=pickle.HIGHEST_PROTOCOL)"
   ]
  },
  {
   "cell_type": "code",
   "execution_count": 6,
   "metadata": {},
   "outputs": [],
   "source": [
    "acquisition_file = 'acquisition_metadata.pickle'\n",
    "with open(acquisition_file, 'rb') as file:\n",
    "    acquisition_dict = pickle.load(file)"
   ]
  },
  {
   "cell_type": "code",
   "execution_count": 4,
   "metadata": {},
   "outputs": [
    {
     "data": {
      "text/plain": [
       "bird_sex: MALE\n",
       "bird_uid: \"x_x00x00_00\"\n",
       "date: \"2021-06-02\"\n",
       "time: \"16:44:15.903130\"\n",
       "testosterone_date: \"YYYY-MM-DD\"\n",
       "dummy_weight_date: \"YYYY-MM-DD\"\n",
       "dummy_tether_date: \"YYYY-MM-DD\"\n",
       "sess_uid: \"UNKNOWN_CONDITION-x_x00x00_00-20210602-16:44:15\""
      ]
     },
     "execution_count": 4,
     "metadata": {},
     "output_type": "execute_result"
    }
   ],
   "source": [
    "from import_dictionary import *\n",
    "\n",
    "metadata = ProtobufMetadata()\n",
    "metadata.sess"
   ]
  },
  {
   "cell_type": "code",
   "execution_count": 5,
   "metadata": {},
   "outputs": [
    {
     "data": {
      "text/plain": [
       "bird_sex: MALE\n",
       "bird_uid: \"x_x00x00_00\"\n",
       "date: \"2021-04-28\"\n",
       "time: \"16:00:28.345932\"\n",
       "testosterone_date: \"YYYY-MM-DD\"\n",
       "dummy_weight_date: \"YYYY-MM-DD\"\n",
       "dummy_tether_date: \"YYYY-MM-DD\"\n",
       "sess_uid: \"UNKNOWN_CONDITION-x_x00x00_00-20210428-16:00:28\"\n",
       "acquisitions {\n",
       "  acquisition_hardware: \"uma8-usb\"\n",
       "  acquisition_software: \"alsa\"\n",
       "  sensors {\n",
       "    acquisition_signal: \"audio\"\n",
       "    manufacturer: \"miniDSP\"\n",
       "    model: \"uma8raw\"\n",
       "    signal_name: \"audio_raw\"\n",
       "    channels: \"0-6\"\n",
       "    locations: \"OUT\"\n",
       "    details: \"Positioned in top-back-left and top-front-right corners of the chamber.\"\n",
       "    details: \"detalis2\"\n",
       "  }\n",
       "  sensors {\n",
       "    acquisition_signal: \"audio\"\n",
       "    manufacturer: \"miniDSP\"\n",
       "    model: \"uma8DSP\"\n",
       "    serial_number: \"uma_syn_001\"\n",
       "    signal_name: \"audio_DSP\"\n",
       "    channel_group: \"PDM\"\n",
       "    channels: \"7-8\"\n",
       "    locations: \"OUT\"\n",
       "    details: \"Positioned in top-back-left and top-front-right corners of the chamber.\"\n",
       "    details: \"detalis2\"\n",
       "  }\n",
       "  sensors {\n",
       "    acquisition_signal: \"sync_imec\"\n",
       "    manufacturer: \"inhouse\"\n",
       "    model: \"uma_syn\"\n",
       "    serial_number: \"uma_syn_001\"\n",
       "    signal_name: \"uma_syn_001\"\n",
       "    channel_group: \"PDM\"\n",
       "    channels: \"7\"\n",
       "    locations: \"OUT\"\n",
       "    details: \"Positioned in top-back-left and top-front-right corners of the chamber.\"\n",
       "    details: \"detalis2\"\n",
       "  }\n",
       "}"
      ]
     },
     "execution_count": 5,
     "metadata": {},
     "output_type": "execute_result"
    }
   ],
   "source": [
    "metadata.add_acquisition_metadata(acquisition_dict)\n",
    "metadata.sess"
   ]
  },
  {
   "cell_type": "markdown",
   "metadata": {},
   "source": [
    "# Load multiple acquisitions"
   ]
  },
  {
   "cell_type": "code",
   "execution_count": 7,
   "metadata": {},
   "outputs": [],
   "source": [
    "# 04/12/21 - code by Pablo Tostado\n",
    "# This code is a template to include multiple acquisition systems in the metadata of one experiment.\n",
    "# Specifically, with everything uncommented there would be 1 ac. system with 1 audio sensor, and 1 ac. system with a neural probe and a stimulus.\n",
    "# In any 'repeated' field, multiple entries can be inserted in a list\n",
    "\n",
    "\n",
    "# Acquisition 1: Audio sensor to PC - UMA8 recorded with Alsa\n",
    "sensor_uma8raw = {\n",
    "        'acquisition_signal': \"audio\",              # audio, audio, pressure, sync, emg, video \n",
    "        'manufacturer': \"miniDSP\",                      # miniDSP, earthworks, fujikura, inhouse, inhouse\n",
    "        'model': \"uma8raw\",                             # uma8, m30, fhm-20, uma8_sync, emg_amp_inhouse\n",
    "        #'serial_number': \"uma_\",                        # '', '', '', uma_syn_001, emg_amp_001\n",
    "        'signal_name': \"audio_raw\",                           # uma_syn_001, pressure, syn_uma8, emg, syn_stim, stim, …\n",
    "        #'headstage': nan,                              # '', '', intan32, \", intan32\n",
    "        #'channel_group': \"A\",                           # '', AIN, port_0, DIN, port_1\n",
    "        'channels': \"0-6\",                              # '', [0], [aux_0], [0], [aux_0, aux_1]\n",
    "        'locations': \"OUT\",                             # left, right, tracheal rings, muscles...\n",
    "        'details': [\"Positioned in top-back-left and top-front-right corners of the chamber.\", \"detalis2\"] # repeated string\n",
    "}\n",
    "sensor_uma8dsp = {\n",
    "        'acquisition_signal': \"audio\",                  # audio, audio, pressure, sync, emg, video \n",
    "        'manufacturer': \"miniDSP\",                          # miniDSP, earthworks, fujikura, inhouse, inhouse\n",
    "        'model': \"uma8DSP\",                                 # uma8, m30, fhm-20, uma8_sync, emg_amp_inhouse\n",
    "        #'serial_number': \"uma_syn_001\",                     # '', '', '', uma_syn_001, emg_amp_001\n",
    "        'signal_name': \"audio_DSP\",                       # uma_syn_001, pressure, syn_uma8, emg, syn_stim, stim, …\n",
    "        #'headstage': nan,                                  # '', '', intan32, \", intan32\n",
    "        #'channel_group': \"PDM\",                             # '', AIN, port_0, DIN, port_1\n",
    "        'channels': \"7-8\",                                    # '', [0], [aux_0], [0], [aux_0, aux_1]\n",
    "        'locations': \"OUT\",                                 # left, right, tracheal rings, muscles...\n",
    "        'details': [\"Positioned in top-back-left and top-front-right corners of the chamber.\", \"detalis2\"] # repeated string\n",
    "}  \n",
    "sensor_uma8syn = {\n",
    "        'acquisition_signal': \"sync_imec\",                  # audio, audio, pressure, sync, emg, video \n",
    "        'manufacturer': \"inhouse\",                          # miniDSP, earthworks, fujikura, inhouse, inhouse\n",
    "        'model': \"uma_syn\",                                 # uma8, m30, fhm-20, uma8_sync, emg_amp_inhouse\n",
    "        'serial_number': \"uma_syn_001\",                     # '', '', '', uma_syn_001, emg_amp_001\n",
    "        'signal_name': \"uma_syn_001\",                       # uma_syn_001, pressure, syn_uma8, emg, syn_stim, stim, …\n",
    "        #'headstage': nan,                                  # '', '', intan32, \", intan32\n",
    "        'channel_group': \"PDM\",                             # '', AIN, port_0, DIN, port_1\n",
    "        'channels': \"7\",                                    # '', [0], [aux_0], [0], [aux_0, aux_1]\n",
    "        'locations': \"OUT\",                                 # left, right, tracheal rings, muscles...\n",
    "        'details': [\"Positioned in top-back-left and top-front-right corners of the chamber.\", \"detalis2\"] # repeated string\n",
    "}  \n",
    "acquisition_alsa = {  \n",
    "    'acquisition_hardware': \"uma8-usb\", # openephys, intan, spikeglx, uma8, raspi, any custom amp\n",
    "    'acquisition_software': \"alsa\", # openephys, openephys++, spikeglx, alsa, vlc\n",
    "    'sensors': [sensor_uma8raw, sensor_uma8dsp, sensor_uma8syn]            # repeated 'sensor message'\n",
    "}\n",
    "\n",
    "# Acquisition 2: Neural probe + video feedback to IMEC\n",
    "neuralprobe = {\n",
    "    'acquisition_signal': \"neural\",                     # string: e.g. neural\n",
    "    'manufacturer': \"neuropixel\",                       # string: neuronexus, neuropixel, masmanidis, inhouse\n",
    "    'model': \"neuropixels_1\",                           # string: buzsaki32, neuropixels_1\n",
    "    'serial_number': \"U656\",                            # string: U656\n",
    "    'num_channels': 385,                                # int32: 16, 32, 64, 384\n",
    "    'tip_depth_microns': 3500.0,                        # float: depth of the tip of the probe\n",
    "    'implant_coordinates_microns': \"500, 2700, 3500\",   # string: A/P, M/L, D/V\n",
    "    'hemisphere': \"right\",                              # string: left, right\n",
    "    'brain_nucleus': [\"hvc\", \"ra\"],                     # repeated string: hvc, ra, area_X\n",
    "    'headstage': \"neuropixel\",                          # string: e.g. H32\n",
    "    'channel_group': \"port_0\",                          # string: port_0, imec_0\n",
    "    'channels': \"1-385\",                                # string: e.g. 1-64,\n",
    "    'details': [\"details\"]                              # repeated string\n",
    "}\n",
    "sensor_micm30 = {\n",
    "    'acquisition_signal': \"audio\",                  # audio, audio, pressure, sync, emg, video \n",
    "    'manufacturer': \"earthworks\",                   # miniDSP, earthworks, fujikura, inhouse, inhouse\n",
    "    'model': \"m30\",                                 # uma8, m30, fhm-20, uma8_sync, emg_amp_inhouse\n",
    "    'serial_number': \"tuvieja\",                     # '', '', '', uma_syn_001, emg_amp_001\n",
    "    'signal_name': \"mic_0\",                         # uma_syn_001, pressure, syn_uma8, emg, syn_stim, stim, …\n",
    "    #'headstage': nan,                              # '', '', intan32, \", intan32\n",
    "    'amplifier': 'grace m1',\n",
    "    'channel_group': \"AIN\",                         # '', AIN, port_0, DIN, port_1\n",
    "    'channels': \"AIN0\",                             # '', [0], [aux_0], [0], [aux_0, aux_1]\n",
    "    'locations': \"out\",                             # left, right, tracheal rings, muscles...\n",
    "    'details': [\"Positioned in top-back-left and top-front-right corners of the chamber.\", \"detalis2\"] # repeated string\n",
    "}\n",
    "stimulus_video = {\n",
    "    'stimulus_signal': \"prerecorded video\",             # string: female, video, song_replay, neural_stim\n",
    "    'manufacturer': \"inhouse\",                          # string: '', inhouse, inhouse, neuronexus\n",
    "    'model': \"3 females in cage\",                       # string: '', '', '3 females in cage, buzsaki32\n",
    "    'serial_number': \"\",                                #\n",
    "    'channel_gropup': \"AIN\",                            # string: AIN, port_0, DIN, port_1\n",
    "    'channels': \"aux_0\",                                # string: [0], [aux_0], [0], [aux_0, aux_1]\n",
    "    'details': [\"details\"],                             # repeated string: Any additional info\n",
    "}               \n",
    "acquisition_spikeglx = {  \n",
    "    'acquisition_hardware': \"IMEC\",                     # openephys, intan, spikeglx, uma8, raspi, any custom amp\n",
    "    'acquisition_software': \"spikeglx\",                 # openephys, openephys++, spikeglx, alsa, vlc\n",
    "    'neuralprobes': [neuralprobe],                      # repeated 'neuralprobes message' \n",
    "    'sensors': [sensor_micm30],                         # repeated 'sensor message'\n",
    "    'stimuli': [stimulus_video]                         # repeated 'stimuli message' \n",
    "}\n",
    "\n",
    "acquisitions_dict = {              # repeated string: (Any additional info)\n",
    "    'acquisitions': [acquisition_alsa, acquisition_spikeglx]         # repeated 'acquisitions message'\n",
    "}"
   ]
  },
  {
   "cell_type": "code",
   "execution_count": 8,
   "metadata": {},
   "outputs": [],
   "source": [
    "# acquisitions_dict"
   ]
  },
  {
   "cell_type": "code",
   "execution_count": 9,
   "metadata": {},
   "outputs": [],
   "source": [
    "import pickle\n",
    "with open('acquisitions_metadata.pickle', 'wb') as file:\n",
    "    pickle.dump(acquisitions_dict, file, protocol=pickle.HIGHEST_PROTOCOL)"
   ]
  },
  {
   "cell_type": "code",
   "execution_count": 38,
   "metadata": {},
   "outputs": [],
   "source": [
    "with open('acquisitions_metadata.pickle', 'rb') as file:\n",
    "    session_dict = pickle.load(file)\n",
    "    \n",
    "# session_dict"
   ]
  },
  {
   "cell_type": "code",
   "execution_count": 12,
   "metadata": {},
   "outputs": [
    {
     "ename": "NameError",
     "evalue": "name 'ProtobuffMetadata' is not defined",
     "output_type": "error",
     "traceback": [
      "\u001b[0;31m---------------------------------------------------------------------------\u001b[0m",
      "\u001b[0;31mNameError\u001b[0m                                 Traceback (most recent call last)",
      "\u001b[0;32m<ipython-input-12-adb4fa0eeb75>\u001b[0m in \u001b[0;36m<module>\u001b[0;34m\u001b[0m\n\u001b[1;32m      1\u001b[0m \u001b[0;32mfrom\u001b[0m \u001b[0mimport_dictionary\u001b[0m \u001b[0;32mimport\u001b[0m \u001b[0;34m*\u001b[0m\u001b[0;34m\u001b[0m\u001b[0;34m\u001b[0m\u001b[0m\n\u001b[1;32m      2\u001b[0m \u001b[0;34m\u001b[0m\u001b[0m\n\u001b[0;32m----> 3\u001b[0;31m \u001b[0mmetadata\u001b[0m \u001b[0;34m=\u001b[0m \u001b[0mProtobuffMetadata\u001b[0m\u001b[0;34m(\u001b[0m\u001b[0;34m)\u001b[0m\u001b[0;34m\u001b[0m\u001b[0;34m\u001b[0m\u001b[0m\n\u001b[0m\u001b[1;32m      4\u001b[0m \u001b[0mmetadata\u001b[0m\u001b[0;34m.\u001b[0m\u001b[0mload_acquisitions_from_file\u001b[0m\u001b[0;34m(\u001b[0m\u001b[0;34m'acquisitions_metadata.pickle'\u001b[0m\u001b[0;34m)\u001b[0m\u001b[0;34m\u001b[0m\u001b[0;34m\u001b[0m\u001b[0m\n\u001b[1;32m      5\u001b[0m \u001b[0;34m\u001b[0m\u001b[0m\n",
      "\u001b[0;31mNameError\u001b[0m: name 'ProtobuffMetadata' is not defined"
     ]
    }
   ],
   "source": [
    "from import_dictionary import *\n",
    "\n",
    "metadata = ProtobuffMetadata()\n",
    "metadata.load_acquisitions_from_file('acquisitions_metadata.pickle')\n",
    "\n",
    "# metadata.sess"
   ]
  },
  {
   "cell_type": "code",
   "execution_count": 31,
   "metadata": {},
   "outputs": [],
   "source": [
    "f = open(\"dict.txt\",\"w\")\n",
    "f.write( str(metadata.sess) )\n",
    "f.close()"
   ]
  },
  {
   "cell_type": "code",
   "execution_count": 18,
   "metadata": {},
   "outputs": [],
   "source": [
    "f = open(\"dict.txt\",\"r\")\n",
    "test = f.read()\n",
    "f.close()"
   ]
  },
  {
   "cell_type": "code",
   "execution_count": 33,
   "metadata": {},
   "outputs": [],
   "source": [
    "# with open('dict.txt', 'r') as reader:\n",
    "#      # Read and print the entire file line by line\n",
    "#      for line in reader:\n",
    "#          print(line, end='')\n"
   ]
  },
  {
   "cell_type": "code",
   "execution_count": 34,
   "metadata": {},
   "outputs": [
    {
     "ename": "AttributeError",
     "evalue": "'_io.BufferedReader' object has no attribute 'load'",
     "output_type": "error",
     "traceback": [
      "\u001b[0;31m---------------------------------------------------------------------------\u001b[0m",
      "\u001b[0;31mAttributeError\u001b[0m                            Traceback (most recent call last)",
      "\u001b[0;32m<ipython-input-34-a0cab9c6ba50>\u001b[0m in \u001b[0;36m<module>\u001b[0;34m\u001b[0m\n\u001b[1;32m      1\u001b[0m \u001b[0;32mwith\u001b[0m \u001b[0mopen\u001b[0m\u001b[0;34m(\u001b[0m\u001b[0;34m\"dict.txt\"\u001b[0m\u001b[0;34m,\u001b[0m \u001b[0;34m'rb'\u001b[0m\u001b[0;34m)\u001b[0m \u001b[0;32mas\u001b[0m \u001b[0mfile\u001b[0m\u001b[0;34m:\u001b[0m\u001b[0;34m\u001b[0m\u001b[0;34m\u001b[0m\u001b[0m\n\u001b[0;32m----> 2\u001b[0;31m     \u001b[0macquisition_dict\u001b[0m \u001b[0;34m=\u001b[0m \u001b[0mfile\u001b[0m\u001b[0;34m.\u001b[0m\u001b[0mload\u001b[0m\u001b[0;34m(\u001b[0m\u001b[0;34m)\u001b[0m\u001b[0;34m\u001b[0m\u001b[0;34m\u001b[0m\u001b[0m\n\u001b[0m",
      "\u001b[0;31mAttributeError\u001b[0m: '_io.BufferedReader' object has no attribute 'load'"
     ]
    }
   ],
   "source": [
    "with open(\"dict.txt\", 'rb') as file:\n",
    "    acquisition_dict = file.load()"
   ]
  },
  {
   "cell_type": "code",
   "execution_count": 18,
   "metadata": {},
   "outputs": [],
   "source": [
    "# metadata.sess"
   ]
  },
  {
   "cell_type": "code",
   "execution_count": 32,
   "metadata": {},
   "outputs": [],
   "source": [
    "# json_obj"
   ]
  },
  {
   "cell_type": "code",
   "execution_count": 22,
   "metadata": {},
   "outputs": [],
   "source": [
    "# Write human-readable JSON file with message.\n",
    "\n",
    "import json\n",
    "from google.protobuf.json_format import MessageToDict\n",
    "\n",
    "json_obj = MessageToDict(metadata.sess, including_default_value_fields=False, preserving_proto_field_name=False, use_integers_for_enums=False, descriptor_pool=None, float_precision=None)\n",
    "\n",
    "with open('metadata.json', 'w') as fj:\n",
    "    json.dump(json_obj, fj, indent=5)\n",
    "fj.close()\n",
    "\n"
   ]
  },
  {
   "cell_type": "code",
   "execution_count": 42,
   "metadata": {},
   "outputs": [
    {
     "data": {
      "text/plain": [
       "bird_sex: MALE\n",
       "bird_uid: \"x_x00x00_00\"\n",
       "date: \"2021-04-28\"\n",
       "time: \"22:33:35.230282\"\n",
       "testosterone_date: \"YYYY-MM-DD\"\n",
       "dummy_weight_date: \"YYYY-MM-DD\"\n",
       "dummy_tether_date: \"YYYY-MM-DD\"\n",
       "sess_uid: \"UNKNOWN_CONDITION-x_x00x00_00-20210428-22:33:35\""
      ]
     },
     "execution_count": 42,
     "metadata": {},
     "output_type": "execute_result"
    }
   ],
   "source": [
    "from import_dictionary import *\n",
    "\n",
    "metadata = ProtobuffMetadata()\n",
    "metadata.sess"
   ]
  },
  {
   "cell_type": "code",
   "execution_count": 47,
   "metadata": {},
   "outputs": [],
   "source": [
    "# metadata.sess"
   ]
  },
  {
   "cell_type": "code",
   "execution_count": 51,
   "metadata": {},
   "outputs": [],
   "source": [
    "\n",
    "import json\n",
    "\n",
    "with open('metadata.json') as f:\n",
    "  data = json.load(f)\n",
    "\n",
    "metadata.read_bird_metadata(data)\n",
    "# Read acquisitions metadata\n",
    "if 'acquisitions' in session_dict:\n",
    "    for acquisition_dict in session_dict['acquisitions']:\n",
    "        metadata.add_acquisition_metadata(acquisition_dict)"
   ]
  },
  {
   "cell_type": "code",
   "execution_count": 52,
   "metadata": {},
   "outputs": [
    {
     "data": {
      "text/plain": [
       "bird_sex: MALE\n",
       "bird_uid: \"x_x00x00_00\"\n",
       "date: \"2021-04-28\"\n",
       "time: \"22:33:35.230282\"\n",
       "testosterone_date: \"YYYY-MM-DD\"\n",
       "dummy_weight_date: \"YYYY-MM-DD\"\n",
       "dummy_tether_date: \"YYYY-MM-DD\"\n",
       "sess_uid: \"UNKNOWN_CONDITION-x_x00x00_00-20210428-22:35:03\"\n",
       "acquisitions {\n",
       "  acquisition_hardware: \"uma8-usb\"\n",
       "  acquisition_software: \"alsa\"\n",
       "  sensors {\n",
       "    acquisition_signal: \"audio\"\n",
       "    manufacturer: \"miniDSP\"\n",
       "    model: \"uma8raw\"\n",
       "    signal_name: \"audio_raw\"\n",
       "    channels: \"0-6\"\n",
       "    locations: \"OUT\"\n",
       "    details: \"Positioned in top-back-left and top-front-right corners of the chamber.\"\n",
       "    details: \"detalis2\"\n",
       "  }\n",
       "  sensors {\n",
       "    acquisition_signal: \"audio\"\n",
       "    manufacturer: \"miniDSP\"\n",
       "    model: \"uma8DSP\"\n",
       "    signal_name: \"audio_DSP\"\n",
       "    channels: \"7-8\"\n",
       "    locations: \"OUT\"\n",
       "    details: \"Positioned in top-back-left and top-front-right corners of the chamber.\"\n",
       "    details: \"detalis2\"\n",
       "  }\n",
       "  sensors {\n",
       "    acquisition_signal: \"sync_imec\"\n",
       "    manufacturer: \"inhouse\"\n",
       "    model: \"uma_syn\"\n",
       "    serial_number: \"uma_syn_001\"\n",
       "    signal_name: \"uma_syn_001\"\n",
       "    channel_group: \"PDM\"\n",
       "    channels: \"7\"\n",
       "    locations: \"OUT\"\n",
       "    details: \"Positioned in top-back-left and top-front-right corners of the chamber.\"\n",
       "    details: \"detalis2\"\n",
       "  }\n",
       "}\n",
       "acquisitions {\n",
       "  acquisition_hardware: \"IMEC\"\n",
       "  acquisition_software: \"spikeglx\"\n",
       "  neuralprobes {\n",
       "    acquisition_signal: \"neural\"\n",
       "    manufacturer: \"neuropixel\"\n",
       "    model: \"neuropixels_1\"\n",
       "    serial_number: \"U656\"\n",
       "    num_channels: 385\n",
       "    tip_depth_microns: 3500.0\n",
       "    implant_coordinates_microns: \"500, 2700, 3500\"\n",
       "    hemisphere: \"right\"\n",
       "    brain_nucleus: \"hvc\"\n",
       "    brain_nucleus: \"ra\"\n",
       "    headstage: \"neuropixel\"\n",
       "    channel_group: \"port_0\"\n",
       "    channels: \"1-385\"\n",
       "    details: \"details\"\n",
       "  }\n",
       "  sensors {\n",
       "    acquisition_signal: \"audio\"\n",
       "    manufacturer: \"earthworks\"\n",
       "    model: \"m30\"\n",
       "    serial_number: \"tuvieja\"\n",
       "    signal_name: \"mic_0\"\n",
       "    channel_group: \"AIN\"\n",
       "    channels: \"AIN0\"\n",
       "    locations: \"out\"\n",
       "    details: \"Positioned in top-back-left and top-front-right corners of the chamber.\"\n",
       "    details: \"detalis2\"\n",
       "  }\n",
       "  stimuli {\n",
       "    stimulus_signal: \"prerecorded video\"\n",
       "    manufacturer: \"inhouse\"\n",
       "    model: \"3 females in cage\"\n",
       "    channel_gropup: \"AIN\"\n",
       "    channels: \"aux_0\"\n",
       "    details: \"details\"\n",
       "  }\n",
       "}\n",
       "acquisitions {\n",
       "  acquisition_hardware: \"uma8-usb\"\n",
       "  acquisition_software: \"alsa\"\n",
       "  sensors {\n",
       "    acquisition_signal: \"audio\"\n",
       "    manufacturer: \"miniDSP\"\n",
       "    model: \"uma8raw\"\n",
       "    signal_name: \"audio_raw\"\n",
       "    channels: \"0-6\"\n",
       "    locations: \"OUT\"\n",
       "    details: \"Positioned in top-back-left and top-front-right corners of the chamber.\"\n",
       "    details: \"detalis2\"\n",
       "  }\n",
       "  sensors {\n",
       "    acquisition_signal: \"audio\"\n",
       "    manufacturer: \"miniDSP\"\n",
       "    model: \"uma8DSP\"\n",
       "    signal_name: \"audio_DSP\"\n",
       "    channels: \"7-8\"\n",
       "    locations: \"OUT\"\n",
       "    details: \"Positioned in top-back-left and top-front-right corners of the chamber.\"\n",
       "    details: \"detalis2\"\n",
       "  }\n",
       "  sensors {\n",
       "    acquisition_signal: \"sync_imec\"\n",
       "    manufacturer: \"inhouse\"\n",
       "    model: \"uma_syn\"\n",
       "    serial_number: \"uma_syn_001\"\n",
       "    signal_name: \"uma_syn_001\"\n",
       "    channel_group: \"PDM\"\n",
       "    channels: \"7\"\n",
       "    locations: \"OUT\"\n",
       "    details: \"Positioned in top-back-left and top-front-right corners of the chamber.\"\n",
       "    details: \"detalis2\"\n",
       "  }\n",
       "}\n",
       "acquisitions {\n",
       "  acquisition_hardware: \"IMEC\"\n",
       "  acquisition_software: \"spikeglx\"\n",
       "  neuralprobes {\n",
       "    acquisition_signal: \"neural\"\n",
       "    manufacturer: \"neuropixel\"\n",
       "    model: \"neuropixels_1\"\n",
       "    serial_number: \"U656\"\n",
       "    num_channels: 385\n",
       "    tip_depth_microns: 3500.0\n",
       "    implant_coordinates_microns: \"500, 2700, 3500\"\n",
       "    hemisphere: \"right\"\n",
       "    brain_nucleus: \"hvc\"\n",
       "    brain_nucleus: \"ra\"\n",
       "    headstage: \"neuropixel\"\n",
       "    channel_group: \"port_0\"\n",
       "    channels: \"1-385\"\n",
       "    details: \"details\"\n",
       "  }\n",
       "  sensors {\n",
       "    acquisition_signal: \"audio\"\n",
       "    manufacturer: \"earthworks\"\n",
       "    model: \"m30\"\n",
       "    serial_number: \"tuvieja\"\n",
       "    signal_name: \"mic_0\"\n",
       "    channel_group: \"AIN\"\n",
       "    channels: \"AIN0\"\n",
       "    locations: \"out\"\n",
       "    details: \"Positioned in top-back-left and top-front-right corners of the chamber.\"\n",
       "    details: \"detalis2\"\n",
       "  }\n",
       "  stimuli {\n",
       "    stimulus_signal: \"prerecorded video\"\n",
       "    manufacturer: \"inhouse\"\n",
       "    model: \"3 females in cage\"\n",
       "    channel_gropup: \"AIN\"\n",
       "    channels: \"aux_0\"\n",
       "    details: \"details\"\n",
       "  }\n",
       "}"
      ]
     },
     "execution_count": 52,
     "metadata": {},
     "output_type": "execute_result"
    }
   ],
   "source": [
    "metadata.sess"
   ]
  },
  {
   "cell_type": "code",
   "execution_count": null,
   "metadata": {},
   "outputs": [],
   "source": [
    "with open(acquisition_file, 'rb') as file:\n",
    "    acquisitions_dict = pickle.load(file)\n",
    "# Read acquisitions metadata\n"
   ]
  },
  {
   "cell_type": "code",
   "execution_count": 24,
   "metadata": {},
   "outputs": [
    {
     "data": {
      "text/plain": [
       "bird_sex: MALE\n",
       "bird_uid: \"x_x00x00_00\"\n",
       "date: \"2021-04-28\"\n",
       "time: \"22:26:27.279352\"\n",
       "testosterone_date: \"YYYY-MM-DD\"\n",
       "dummy_weight_date: \"YYYY-MM-DD\"\n",
       "dummy_tether_date: \"YYYY-MM-DD\"\n",
       "sess_uid: \"UNKNOWN_CONDITION-x_x00x00_00-20210428-22:26:27\""
      ]
     },
     "execution_count": 24,
     "metadata": {},
     "output_type": "execute_result"
    }
   ],
   "source": [
    "from import_dictionary import *\n",
    "\n",
    "metadata = ProtobuffMetadata()\n",
    "metadata.sess"
   ]
  },
  {
   "cell_type": "code",
   "execution_count": 30,
   "metadata": {},
   "outputs": [],
   "source": [
    "# data"
   ]
  },
  {
   "cell_type": "code",
   "execution_count": 28,
   "metadata": {},
   "outputs": [
    {
     "ename": "TypeError",
     "evalue": "expected str, bytes or os.PathLike object, not dict",
     "output_type": "error",
     "traceback": [
      "\u001b[0;31m---------------------------------------------------------------------------\u001b[0m",
      "\u001b[0;31mTypeError\u001b[0m                                 Traceback (most recent call last)",
      "\u001b[0;32m<ipython-input-28-15e2ddfc8734>\u001b[0m in \u001b[0;36m<module>\u001b[0;34m\u001b[0m\n\u001b[0;32m----> 1\u001b[0;31m \u001b[0mmetadata\u001b[0m\u001b[0;34m.\u001b[0m\u001b[0mread_aquisitions_metadata\u001b[0m\u001b[0;34m(\u001b[0m\u001b[0mdata\u001b[0m\u001b[0;34m)\u001b[0m\u001b[0;34m\u001b[0m\u001b[0;34m\u001b[0m\u001b[0m\n\u001b[0m\u001b[1;32m      2\u001b[0m \u001b[0mmetadata\u001b[0m\u001b[0;34m.\u001b[0m\u001b[0msess\u001b[0m\u001b[0;34m\u001b[0m\u001b[0;34m\u001b[0m\u001b[0m\n",
      "\u001b[0;32m/home/jovyan/pablo_tostado/bird_song/protobuff_serialization/import_dictionary.py\u001b[0m in \u001b[0;36mread_aquisitions_metadata\u001b[0;34m(self, acquisition_metadata_file)\u001b[0m\n\u001b[1;32m    196\u001b[0m \u001b[0;34m\u001b[0m\u001b[0m\n\u001b[1;32m    197\u001b[0m     \u001b[0;32mdef\u001b[0m \u001b[0mread_aquisitions_metadata\u001b[0m\u001b[0;34m(\u001b[0m\u001b[0mself\u001b[0m\u001b[0;34m,\u001b[0m \u001b[0macquisition_metadata_file\u001b[0m\u001b[0;34m)\u001b[0m\u001b[0;34m:\u001b[0m\u001b[0;34m\u001b[0m\u001b[0;34m\u001b[0m\u001b[0m\n\u001b[0;32m--> 198\u001b[0;31m         \u001b[0;32mwith\u001b[0m \u001b[0mopen\u001b[0m\u001b[0;34m(\u001b[0m\u001b[0macquisition_metadata_file\u001b[0m\u001b[0;34m,\u001b[0m \u001b[0;34m'rb'\u001b[0m\u001b[0;34m)\u001b[0m \u001b[0;32mas\u001b[0m \u001b[0mfile\u001b[0m\u001b[0;34m:\u001b[0m\u001b[0;34m\u001b[0m\u001b[0;34m\u001b[0m\u001b[0m\n\u001b[0m\u001b[1;32m    199\u001b[0m             \u001b[0msession_dict\u001b[0m \u001b[0;34m=\u001b[0m \u001b[0mpickle\u001b[0m\u001b[0;34m.\u001b[0m\u001b[0mload\u001b[0m\u001b[0;34m(\u001b[0m\u001b[0mfile\u001b[0m\u001b[0;34m)\u001b[0m\u001b[0;34m\u001b[0m\u001b[0;34m\u001b[0m\u001b[0m\n\u001b[1;32m    200\u001b[0m \u001b[0;34m\u001b[0m\u001b[0m\n",
      "\u001b[0;31mTypeError\u001b[0m: expected str, bytes or os.PathLike object, not dict"
     ]
    }
   ],
   "source": [
    "metadata.read_aquisitions_metadata(data)\n",
    "metadata.sess"
   ]
  },
  {
   "cell_type": "code",
   "execution_count": 26,
   "metadata": {},
   "outputs": [
    {
     "data": {
      "text/plain": [
       "'MALE'"
      ]
     },
     "execution_count": 26,
     "metadata": {},
     "output_type": "execute_result"
    }
   ],
   "source": [
    "data['birdSex']"
   ]
  },
  {
   "cell_type": "code",
   "execution_count": 56,
   "metadata": {},
   "outputs": [
    {
     "data": {
      "text/plain": [
       "{'birdSex': 'MALE',\n",
       " 'birdUid': 'x_x00x00_00',\n",
       " 'date': '2021-04-28',\n",
       " 'time': '16:32:15.941851',\n",
       " 'testosteroneDate': 'YYYY-MM-DD',\n",
       " 'dummyWeightDate': 'YYYY-MM-DD',\n",
       " 'dummyTetherDate': 'YYYY-MM-DD',\n",
       " 'sessUid': 'UNKNOWN_CONDITION-x_x00x00_00-20210428-16:32:15',\n",
       " 'acquisitions': [{'acquisitionHardware': 'uma8-usb',\n",
       "   'acquisitionSoftware': 'alsa',\n",
       "   'sensors': [{'acquisitionSignal': 'audio',\n",
       "     'manufacturer': 'miniDSP',\n",
       "     'model': 'uma8raw',\n",
       "     'signalName': 'audio_raw',\n",
       "     'channels': '0-6',\n",
       "     'locations': 'OUT',\n",
       "     'details': ['Positioned in top-back-left and top-front-right corners of the chamber.',\n",
       "      'detalis2']},\n",
       "    {'acquisitionSignal': 'audio',\n",
       "     'manufacturer': 'miniDSP',\n",
       "     'model': 'uma8DSP',\n",
       "     'signalName': 'audio_DSP',\n",
       "     'channels': '7-8',\n",
       "     'locations': 'OUT',\n",
       "     'details': ['Positioned in top-back-left and top-front-right corners of the chamber.',\n",
       "      'detalis2']},\n",
       "    {'acquisitionSignal': 'sync_imec',\n",
       "     'manufacturer': 'inhouse',\n",
       "     'model': 'uma_syn',\n",
       "     'serialNumber': 'uma_syn_001',\n",
       "     'signalName': 'uma_syn_001',\n",
       "     'channelGroup': 'PDM',\n",
       "     'channels': '7',\n",
       "     'locations': 'OUT',\n",
       "     'details': ['Positioned in top-back-left and top-front-right corners of the chamber.',\n",
       "      'detalis2']}]},\n",
       "  {'acquisitionHardware': 'IMEC',\n",
       "   'acquisitionSoftware': 'spikeglx',\n",
       "   'neuralprobes': [{'acquisitionSignal': 'neural',\n",
       "     'manufacturer': 'neuropixel',\n",
       "     'model': 'neuropixels_1',\n",
       "     'serialNumber': 'U656',\n",
       "     'numChannels': 385,\n",
       "     'tipDepthMicrons': 3500.0,\n",
       "     'implantCoordinatesMicrons': '500, 2700, 3500',\n",
       "     'hemisphere': 'right',\n",
       "     'brainNucleus': ['hvc', 'ra'],\n",
       "     'headstage': 'neuropixel',\n",
       "     'channelGroup': 'port_0',\n",
       "     'channels': '1-385',\n",
       "     'details': ['details']}],\n",
       "   'sensors': [{'acquisitionSignal': 'audio',\n",
       "     'manufacturer': 'earthworks',\n",
       "     'model': 'm30',\n",
       "     'serialNumber': 'tuvieja',\n",
       "     'signalName': 'mic_0',\n",
       "     'channelGroup': 'AIN',\n",
       "     'channels': 'AIN0',\n",
       "     'locations': 'out',\n",
       "     'details': ['Positioned in top-back-left and top-front-right corners of the chamber.',\n",
       "      'detalis2']}],\n",
       "   'stimuli': [{'stimulusSignal': 'prerecorded video',\n",
       "     'manufacturer': 'inhouse',\n",
       "     'model': '3 females in cage',\n",
       "     'channelGropup': 'AIN',\n",
       "     'channels': 'aux_0',\n",
       "     'details': ['details']}]}]}"
      ]
     },
     "execution_count": 56,
     "metadata": {},
     "output_type": "execute_result"
    }
   ],
   "source": [
    "data"
   ]
  },
  {
   "cell_type": "code",
   "execution_count": null,
   "metadata": {},
   "outputs": [],
   "source": []
  }
 ],
 "metadata": {
  "kernelspec": {
   "display_name": "Python 3",
   "language": "python",
   "name": "python3"
  },
  "language_info": {
   "codemirror_mode": {
    "name": "ipython",
    "version": 3
   },
   "file_extension": ".py",
   "mimetype": "text/x-python",
   "name": "python",
   "nbconvert_exporter": "python",
   "pygments_lexer": "ipython3",
   "version": "3.8.8"
  }
 },
 "nbformat": 4,
 "nbformat_minor": 4
}
