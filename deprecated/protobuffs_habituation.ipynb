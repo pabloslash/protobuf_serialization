{
 "cells": [
  {
   "cell_type": "code",
   "execution_count": 1,
   "metadata": {},
   "outputs": [],
   "source": [
    "import metadata_pb2\n",
    "from datetime import datetime\n",
    "import pytz"
   ]
  },
  {
   "cell_type": "code",
   "execution_count": 5,
   "metadata": {},
   "outputs": [],
   "source": [
    "#SESSION\n",
    "sess = metadata_pb2.Session()\n",
    "sess.bird_type = sess.BirdType.ZEBRA                                 # UNKNOWN_BIRDTYPE(0), ZEBRA(1), STARLING(2), BENGALESE(3)\n",
    "sess.bird_sex = sess.BirdSex.MALE                                    # UNKNOWN_BIRDSEX(0), MALE(1), FEMALE(2)\n",
    "sess.bird_uid = 'z_m10g8_20'                                         # string e.g. z_m10g8_20\n",
    "sess.date = str(datetime.now(pytz.timezone('US/Pacific')).date())    # string: e.g. 2021-03-10\n",
    "sess.time = str(datetime.now(pytz.timezone('US/Pacific')).time())    # string: e.g. 14:42:01.754603 (microseconds precision)\n",
    "sess.weight_grams = 18.3                                             # float\n",
    "sess.testosterone = False                                            # bool: True / False\n",
    "sess.testosterone_date = ''                                          # string: e.g. 2021-03-10\n",
    "sess.dummy_weight = True                                             # bool: True / False\n",
    "sess.dummy_weight_date = '2021-03-10'                                # string: e.g. 2021-03-10\n",
    "sess.dummy_tether = True                                             # bool: True / False\n",
    "sess.dummy_tether_date = '2021-03-10'                                # string: e.g. 2021-03-10\n",
    "sess.condition = sess.Condition.HABITUATION                          # UNKNOWN_CONDITION(0), HABITUATION(1), CHRONIC(2), ACUTE(3) \n",
    "sess.sess_uid = sess.Condition.keys()[sess.condition] + '-' + sess.bird_uid + '-' + datetime.now(pytz.timezone('US/Pacific')).strftime(\"%Y%m%d-%H:%M:%S\")    # string: e.g. habituation_birdID_date_time\n",
    "sess.box = 'cuervecito3'                                             # string: e.g. passaro1, cuervecito3, shoox\n",
    "sess.details.append('dummy_weight + tether')                         # repeated string: (Any additional info)\n",
    "\n",
    "#ACQUISITION\n",
    "acquisition = sess.acquisitions.add()\n",
    "acquisition.acquisition_hardware = 'uma8'              # openephys, intan, spikeglx, uma8, raspi, any custom amp\n",
    "acquisition.acquisition_software = 'alsa'              # openephys, openephys++, spikeglx, alsa, vlc\n",
    "#Sensor\n",
    "sensor = acquisition.sensors.add()                 \n",
    "sensor.acquisition_signal = 'audio'        # audio, audio, pressure, sync, emg, video\n",
    "sensor.manufacturer = 'miniDSP'            # miniDSP, earthworks, fujikura, inhouse, inhouse\n",
    "sensor.model = 'uma8-DSP+Raw'              # uma8, m30, fhm-20, uma8_sync, emg_amp_inhouse\n",
    "# sensor.serial_number = 'uma_syn_001'                  # '', '', '', uma_syn_001, emg_amp_001\n",
    "# sensor.signal_name = 'uma_syn_001'                    # uma_syn_001, pressure, syn_uma8, emg, syn_stim, stim, …\n",
    "# sensor.headstage = 'intan32'                      # '', '', intan32, \", intan32\n",
    "# sensor.channel_group = 'AIN'                  # '', AIN, port_0, DIN, port_1\n",
    "# sensor.channels = 'aux_0'                       # '', [0], [aux_0], [0], [aux_0, aux_1]\n",
    "# sensor.locations = 'muscles'                      # left, right, tracheal rings, muscles...\n",
    "sensor.details.append('Positioned in top-back-left and top-front-right corners of the chamber.')                  # repeated string\n",
    "\n",
    "# #Neural probe\n",
    "# neural_probe = acquisition.neuralprobes.add()\n",
    "# neural_probe.acsuidition_signal = 'neural'                       # string: e.g. neural\n",
    "# neural_probe.manufacturer = 'neuropixel'                         # string: neuronexus, neuropixel, masmanidis, inhouse\n",
    "# neural_probe.model = 'neuropixels_1'                             # string: buzsaki32, neuropixels_1\n",
    "# neural_probe.serial_number = 'U656'                              # string: U656\n",
    "# neural_probe.num_channels = 385                                  # int32: 16, 32, 64, 384\n",
    "# neural_probe.tip_depth_microns = 3500;                           # float: depth of the tip of the probe\n",
    "# neural_probe.implant_coordinates_microns = '500, 2700, 3500'     # string: A/P, M/L, D/V\n",
    "# neural_probe.hemisphere = 'right'                                # string: left, right\n",
    "# neural_probe.brain_nucleus.append('hvc')                         # repeated string [hvc], [hvc,ra], area_X\n",
    "# neural_probe.brain_nucleus.append('ra')\n",
    "# neural_probe.headstage = 'neuropixel'                            # string: e.g. H32\n",
    "# neural_probe.channel_group = 'port_0'                            # string: port_0, imec_0\n",
    "# neural_probe.channels = '1-385'                                  # string: e.g. 1-64,\n",
    "# neural_probe.details.append('')                                  # repeated string\n",
    "\n",
    "# #Stimulus\n",
    "# stimulus = acquisition.stimuli.add()\n",
    "# stimulus.stimulus_signal = 'prerecorded video'          # string: female, video, song_replay, neural_stim\n",
    "# stimulus.manufacturer = 'inhouse'                       # string: '', inhouse, inhouse, neuronexus\n",
    "# stimulus.model = '3 females in cage'                    # string: '', '', '3 females in cage, buzsaki32\n",
    "# stimulus.serial_number = '-'                            #\n",
    "# stimulus.channel_gropup = 'AIN'                         # string: AIN, port_0, DIN, port_1\n",
    "# stimulus.channels = 'aux_0'                           # string: [0], [aux_0], [0], [aux_0, aux_1]\n",
    "# stimulus.details.append('')                             # repeated string: Any additional info\n"
   ]
  },
  {
   "cell_type": "code",
   "execution_count": 6,
   "metadata": {},
   "outputs": [
    {
     "data": {
      "text/plain": [
       "bird_type: ZEBRA\n",
       "bird_sex: MALE\n",
       "bird_uid: \"z_m10g8_20\"\n",
       "date: \"2021-04-12\"\n",
       "time: \"18:32:02.124178\"\n",
       "weight_grams: 18.299999237060547\n",
       "dummy_weight: true\n",
       "dummy_weight_date: \"2021-03-10\"\n",
       "dummy_tether: true\n",
       "dummy_tether_date: \"2021-03-10\"\n",
       "condition: HABITUATION\n",
       "sess_uid: \"HABITUATION-z_m10g8_20-20210412-18:32:02\"\n",
       "box: \"cuervecito3\"\n",
       "details: \"dummy_weight + tether\"\n",
       "acquisitions {\n",
       "  acquisition_hardware: \"uma8\"\n",
       "  acquisition_software: \"alsa\"\n",
       "  sensors {\n",
       "    acquisition_signal: \"audio\"\n",
       "    manufacturer: \"miniDSP\"\n",
       "    model: \"uma8-DSP+Raw\"\n",
       "    details: \"Positioned in top-back-left and top-front-right corners of the chamber.\"\n",
       "  }\n",
       "}"
      ]
     },
     "execution_count": 6,
     "metadata": {},
     "output_type": "execute_result"
    }
   ],
   "source": [
    "sess"
   ]
  },
  {
   "cell_type": "code",
   "execution_count": null,
   "metadata": {},
   "outputs": [],
   "source": []
  }
 ],
 "metadata": {
  "kernelspec": {
   "display_name": "Python 3",
   "language": "python",
   "name": "python3"
  },
  "language_info": {
   "codemirror_mode": {
    "name": "ipython",
    "version": 3
   },
   "file_extension": ".py",
   "mimetype": "text/x-python",
   "name": "python",
   "nbconvert_exporter": "python",
   "pygments_lexer": "ipython3",
   "version": "3.8.8"
  }
 },
 "nbformat": 4,
 "nbformat_minor": 4
}
