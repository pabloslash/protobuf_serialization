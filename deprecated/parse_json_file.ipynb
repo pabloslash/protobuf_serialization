{
 "cells": [
  {
   "cell_type": "code",
   "execution_count": 50,
   "metadata": {},
   "outputs": [],
   "source": [
    "from import_dictionary import *\n",
    "from metadata_pb2 import *\n",
    "\n",
    "from google.protobuf.json_format import MessageToDict   #Converts protobuf message to a dictionary\n",
    "from google.protobuf.json_format import MessageToJson   #Converts protobuf message to JSON format\n",
    "\n",
    "from google.protobuf.json_format import Parse           #Parses a JSON representation of a protocol message into a message\n",
    "from google.protobuf.json_format import ParseDict       #Parses a JSON dictionary representation into a message\n",
    "\n",
    "\n",
    "\n",
    "# Parse a json format string to proto object. \n",
    "#message = json_format.Parse(json_string, my_proto_pb2.MyMessage())"
   ]
  },
  {
   "cell_type": "code",
   "execution_count": 51,
   "metadata": {},
   "outputs": [],
   "source": [
    "# Example \n",
    "\n",
    "metadata = ProtobufMetadata()"
   ]
  },
  {
   "cell_type": "code",
   "execution_count": 52,
   "metadata": {},
   "outputs": [],
   "source": [
    "# Create a proto object and serialize it to a json format string. \n",
    "json_string = MessageToJson(metadata.sess, including_default_value_fields=True, preserving_proto_field_name=True, \n",
    "                            indent=0, use_integers_for_enums=False, descriptor_pool=None, float_precision=None)\n",
    "\n",
    "json_string\n",
    "\n",
    "with open('json_test.json', 'w') as fj:\n",
    "        json.dump(json_string, fj, indent=5)\n",
    "        fj.close()\n"
   ]
  },
  {
   "cell_type": "code",
   "execution_count": 53,
   "metadata": {},
   "outputs": [
    {
     "data": {
      "text/plain": [
       "bird_sex: MALE\n",
       "bird_uid: \"x_x00x00_00\"\n",
       "date: \"2021-06-04\"\n",
       "time: \"17:34:30.548987\"\n",
       "testosterone_date: \"YYYY-MM-DD\"\n",
       "dummy_weight_date: \"YYYY-MM-DD\"\n",
       "dummy_tether_date: \"YYYY-MM-DD\"\n",
       "sess_uid: \"UNKNOWN_CONDITION-x_x00x00_00-20210604-17:34:30\""
      ]
     },
     "execution_count": 53,
     "metadata": {},
     "output_type": "execute_result"
    }
   ],
   "source": [
    "message"
   ]
  },
  {
   "cell_type": "code",
   "execution_count": 57,
   "metadata": {},
   "outputs": [
    {
     "data": {
      "text/plain": [
       "bird_type: ZEBRA\n",
       "bird_sex: FEMALE\n",
       "bird_uid: \"z_m10g8_20\"\n",
       "date: \"2021-06-10\"\n",
       "time: \"16:49:53.000309\"\n",
       "weight_grams: 17.299999237060547\n",
       "testosterone_date: \"2021-03-10\"\n",
       "dummy_weight: true\n",
       "dummy_weight_grams: 0.6000000238418579\n",
       "dummy_weight_date: \"2021-03-10\"\n",
       "dummy_tether: true\n",
       "dummy_tether_date: \"2021-03-10\"\n",
       "condition: CHRONIC\n",
       "sess_uid: \"HABITUATION-z_m10g8_20-2021-06-10-16:49:53.000309\"\n",
       "box: \"cuervecito3\"\n",
       "details: \"dummy_weight + tether\"\n",
       "acquisitions {\n",
       "  acquisition_hardware: \"raspberry Pi\"\n",
       "  acquisition_software: \"alsa\"\n",
       "  sensors {\n",
       "    acquisition_signal: \"audio\"\n",
       "    manufacturer: \"earthworks\"\n",
       "    model: \"m30\"\n",
       "    signal_name: \"audio_raw\"\n",
       "    channels: \"0-6\"\n",
       "    locations: \"OUT\"\n",
       "    details: \"Positioned in top-back-left and top-front-right corners of the chamber.\"\n",
       "    details: \"detalis2\"\n",
       "  }\n",
       "  sensors {\n",
       "    acquisition_signal: \"audio\"\n",
       "    manufacturer: \"miniDSP\"\n",
       "    model: \"uma8DSP\"\n",
       "    signal_name: \"audio_DSP\"\n",
       "    channels: \"7-8\"\n",
       "    locations: \"OUT\"\n",
       "    details: \"Positioned in top-back-left and top-front-right corners of the chamber.\"\n",
       "    details: \"detalis2\"\n",
       "  }\n",
       "  sensors {\n",
       "    acquisition_signal: \"sync_imec\"\n",
       "    manufacturer: \"inhouse\"\n",
       "    model: \"uma_syn\"\n",
       "    serial_number: \"uma_syn_001\"\n",
       "    signal_name: \"uma_syn_001\"\n",
       "    channel_group: \"PDM\"\n",
       "    channels: \"7\"\n",
       "    locations: \"OUT\"\n",
       "    details: \"Positioned in top-back-left and top-front-right corners of the chamber.\"\n",
       "    details: \"detalis2\"\n",
       "  }\n",
       "  sensors {\n",
       "  }\n",
       "}\n",
       "acquisitions {\n",
       "  acquisition_hardware: \"IMEC\"\n",
       "  acquisition_software: \"spikeglx\"\n",
       "  neuralprobes {\n",
       "    acquisition_signal: \"neural\"\n",
       "    manufacturer: \"neuropixel\"\n",
       "    model: \"neuropixels_1\"\n",
       "    serial_number: \"U656\"\n",
       "    num_channels: 385\n",
       "    tip_depth_microns: 3500.0\n",
       "    implant_coordinates_microns: \"500, 2700, 3500\"\n",
       "    hemisphere: \"right\"\n",
       "    brain_nucleus: \"hvc\"\n",
       "    brain_nucleus: \"ra\"\n",
       "    headstage: \"neuropixel\"\n",
       "    channel_group: \"port_0\"\n",
       "    channels: \"1-385\"\n",
       "    details: \"details\"\n",
       "  }\n",
       "  sensors {\n",
       "    acquisition_signal: \"audio\"\n",
       "    manufacturer: \"earthworks\"\n",
       "    model: \"m30\"\n",
       "    serial_number: \"tuvieja\"\n",
       "    signal_name: \"mic_0\"\n",
       "    channel_group: \"AIN\"\n",
       "    channels: \"AIN0\"\n",
       "    locations: \"out\"\n",
       "    details: \"Positioned in top-back-left and top-front-right corners of the chamber.\"\n",
       "    details: \"detalis2\"\n",
       "  }\n",
       "  stimuli {\n",
       "    stimulus_signal: \"prerecorded video\"\n",
       "    manufacturer: \"inhouse\"\n",
       "    model: \"3 females in cage\"\n",
       "    channel_gropup: \"AIN\"\n",
       "    channels: \"aux_0\"\n",
       "    details: \"details\"\n",
       "  }\n",
       "}"
      ]
     },
     "execution_count": 57,
     "metadata": {},
     "output_type": "execute_result"
    }
   ],
   "source": [
    "# dict_string = MessageToDict(metadata.sess, including_default_value_fields=True, preserving_proto_field_name=True, \n",
    "#                             use_integers_for_enums=False, descriptor_pool=None, float_precision=None)\n",
    "\n",
    "\n",
    "# with open('dict_test2.json', 'w') as fj:\n",
    "#         json.dump(dict_string, fj, indent=5)\n",
    "#         fj.close()\n",
    "        \n",
    "        \n",
    "f = open('HABITUATION-z_m10g8_20-2021-06-10-16:49:53.000309_metadata.json',)\n",
    "data = json.load(f)\n",
    "f.close()\n",
    "\n",
    "\n",
    "message = ParseDict(data, metadata.sess, ignore_unknown_fields=False, descriptor_pool=None)\n",
    "message \n",
    "\n",
    "# with open('dict_test.json', 'w') as fj:\n",
    "#         json.dump(dict_string, fj, indent=5)\n",
    "#         fj.close()"
   ]
  },
  {
   "cell_type": "code",
   "execution_count": 31,
   "metadata": {},
   "outputs": [
    {
     "data": {
      "text/plain": [
       "{'bird_sex': 'MALE',\n",
       " 'bird_uid': 'x_x00x00_00',\n",
       " 'date': '2021-06-04',\n",
       " 'time': '12:50:45.751871',\n",
       " 'testosterone_date': 'YYYY-MM-DD',\n",
       " 'dummy_weight_date': 'YYYY-MM-DD',\n",
       " 'dummy_tether_date': 'YYYY-MM-DD',\n",
       " 'sess_uid': 'UNKNOWN_CONDITION-x_x00x00_00-20210604-12:50:45',\n",
       " 'bird_type': 'UNKNOWN_BIRDTYPE',\n",
       " 'weight_grams': 0.0,\n",
       " 'testosterone': False,\n",
       " 'dummy_weight': False,\n",
       " 'dummy_weight_grams': 0.0,\n",
       " 'dummy_tether': False,\n",
       " 'condition': 'UNKNOWN_CONDITION',\n",
       " 'box': '',\n",
       " 'details': [],\n",
       " 'acquisitions': []}"
      ]
     },
     "execution_count": 31,
     "metadata": {},
     "output_type": "execute_result"
    }
   ],
   "source": [
    "f = open('dict_test.json',)\n",
    "data = json.load(f)\n",
    "f.close()\n",
    "\n",
    "data\n",
    "# ParseDict(metadata, ProtobufMetadata(), ignore_unknown_fields=False, descriptor_pool=None)"
   ]
  },
  {
   "cell_type": "code",
   "execution_count": 3,
   "metadata": {},
   "outputs": [],
   "source": [
    "\n",
    "\n",
    "metadata.load_acquisitions_from_file('acquisitions_metadata.pickle')\n",
    "metadata.sess\n",
    "\n",
    "\n",
    "\n",
    "# json_string\n",
    "\n",
    "with open('personal.json', 'w') as fj:\n",
    "        json.dump(json_string, fj, indent=0)\n",
    "        fj.close()\n",
    "\n",
    "# with open('personal.json', 'w') as json_file:\n",
    "#     json.dump(json_string, json_file, indent=4)"
   ]
  },
  {
   "cell_type": "code",
   "execution_count": 14,
   "metadata": {},
   "outputs": [
    {
     "data": {
      "text/plain": [
       "'{\\n\"birdSex\": \"MALE\",\\n\"birdUid\": \"x_x00x00_00\",\\n\"date\": \"2021-05-07\",\\n\"time\": \"17:15:44.334424\",\\n\"testosteroneDate\": \"YYYY-MM-DD\",\\n\"dummyWeightDate\": \"YYYY-MM-DD\",\\n\"dummyTetherDate\": \"YYYY-MM-DD\",\\n\"sessUid\": \"UNKNOWN_CONDITION-x_x00x00_00-20210507-17:15:44\",\\n\"acquisitions\": [\\n{\\n\"acquisitionHardware\": \"uma8-usb\",\\n\"acquisitionSoftware\": \"alsa\",\\n\"sensors\": [\\n{\\n\"acquisitionSignal\": \"audio\",\\n\"manufacturer\": \"miniDSP\",\\n\"model\": \"uma8raw\",\\n\"signalName\": \"audio_raw\",\\n\"channels\": \"0-6\",\\n\"locations\": \"OUT\",\\n\"details\": [\\n\"Positioned in top-back-left and top-front-right corners of the chamber.\",\\n\"detalis2\"\\n],\\n\"serialNumber\": \"\",\\n\"headstage\": \"\",\\n\"channelGroup\": \"\"\\n},\\n{\\n\"acquisitionSignal\": \"audio\",\\n\"manufacturer\": \"miniDSP\",\\n\"model\": \"uma8DSP\",\\n\"signalName\": \"audio_DSP\",\\n\"channels\": \"7-8\",\\n\"locations\": \"OUT\",\\n\"details\": [\\n\"Positioned in top-back-left and top-front-right corners of the chamber.\",\\n\"detalis2\"\\n],\\n\"serialNumber\": \"\",\\n\"headstage\": \"\",\\n\"channelGroup\": \"\"\\n},\\n{\\n\"acquisitionSignal\": \"sync_imec\",\\n\"manufacturer\": \"inhouse\",\\n\"model\": \"uma_syn\",\\n\"serialNumber\": \"uma_syn_001\",\\n\"signalName\": \"uma_syn_001\",\\n\"channelGroup\": \"PDM\",\\n\"channels\": \"7\",\\n\"locations\": \"OUT\",\\n\"details\": [\\n\"Positioned in top-back-left and top-front-right corners of the chamber.\",\\n\"detalis2\"\\n],\\n\"headstage\": \"\"\\n}\\n],\\n\"neuralprobes\": [],\\n\"stimuli\": []\\n},\\n{\\n\"acquisitionHardware\": \"IMEC\",\\n\"acquisitionSoftware\": \"spikeglx\",\\n\"neuralprobes\": [\\n{\\n\"acquisitionSignal\": \"neural\",\\n\"manufacturer\": \"neuropixel\",\\n\"model\": \"neuropixels_1\",\\n\"serialNumber\": \"U656\",\\n\"numChannels\": 385,\\n\"tipDepthMicrons\": 3500.0,\\n\"implantCoordinatesMicrons\": \"500, 2700, 3500\",\\n\"hemisphere\": \"right\",\\n\"brainNucleus\": [\\n\"hvc\",\\n\"ra\"\\n],\\n\"headstage\": \"neuropixel\",\\n\"channelGroup\": \"port_0\",\\n\"channels\": \"1-385\",\\n\"details\": [\\n\"details\"\\n]\\n}\\n],\\n\"sensors\": [\\n{\\n\"acquisitionSignal\": \"audio\",\\n\"manufacturer\": \"earthworks\",\\n\"model\": \"m30\",\\n\"serialNumber\": \"tuvieja\",\\n\"signalName\": \"mic_0\",\\n\"channelGroup\": \"AIN\",\\n\"channels\": \"AIN0\",\\n\"locations\": \"out\",\\n\"details\": [\\n\"Positioned in top-back-left and top-front-right corners of the chamber.\",\\n\"detalis2\"\\n],\\n\"headstage\": \"\"\\n}\\n],\\n\"stimuli\": [\\n{\\n\"stimulusSignal\": \"prerecorded video\",\\n\"manufacturer\": \"inhouse\",\\n\"model\": \"3 females in cage\",\\n\"channelGropup\": \"AIN\",\\n\"channels\": \"aux_0\",\\n\"details\": [\\n\"details\"\\n],\\n\"serialNumber\": \"\",\\n\"signalName\": \"\"\\n}\\n]\\n}\\n],\\n\"birdType\": \"UNKNOWN_BIRDTYPE\",\\n\"weightGrams\": 0.0,\\n\"testosterone\": false,\\n\"dummyWeight\": false,\\n\"dummyWeightGrams\": 0.0,\\n\"dummyTether\": false,\\n\"condition\": \"UNKNOWN_CONDITION\",\\n\"box\": \"\",\\n\"details\": []\\n}'"
      ]
     },
     "execution_count": 14,
     "metadata": {},
     "output_type": "execute_result"
    }
   ],
   "source": [
    "json_string"
   ]
  },
  {
   "cell_type": "code",
   "execution_count": 16,
   "metadata": {},
   "outputs": [
    {
     "data": {
      "text/plain": [
       "bird_sex: MALE\n",
       "bird_uid: \"x_x00x00_00\"\n",
       "date: \"2021-05-07\"\n",
       "time: \"17:15:44.334424\"\n",
       "testosterone_date: \"YYYY-MM-DD\"\n",
       "dummy_weight_date: \"YYYY-MM-DD\"\n",
       "dummy_tether_date: \"YYYY-MM-DD\"\n",
       "sess_uid: \"UNKNOWN_CONDITION-x_x00x00_00-20210507-17:15:44\"\n",
       "acquisitions {\n",
       "  acquisition_hardware: \"uma8-usb\"\n",
       "  acquisition_software: \"alsa\"\n",
       "  sensors {\n",
       "    acquisition_signal: \"audio\"\n",
       "    manufacturer: \"miniDSP\"\n",
       "    model: \"uma8raw\"\n",
       "    signal_name: \"audio_raw\"\n",
       "    channels: \"0-6\"\n",
       "    locations: \"OUT\"\n",
       "    details: \"Positioned in top-back-left and top-front-right corners of the chamber.\"\n",
       "    details: \"detalis2\"\n",
       "  }\n",
       "  sensors {\n",
       "    acquisition_signal: \"audio\"\n",
       "    manufacturer: \"miniDSP\"\n",
       "    model: \"uma8DSP\"\n",
       "    signal_name: \"audio_DSP\"\n",
       "    channels: \"7-8\"\n",
       "    locations: \"OUT\"\n",
       "    details: \"Positioned in top-back-left and top-front-right corners of the chamber.\"\n",
       "    details: \"detalis2\"\n",
       "  }\n",
       "  sensors {\n",
       "    acquisition_signal: \"sync_imec\"\n",
       "    manufacturer: \"inhouse\"\n",
       "    model: \"uma_syn\"\n",
       "    serial_number: \"uma_syn_001\"\n",
       "    signal_name: \"uma_syn_001\"\n",
       "    channel_group: \"PDM\"\n",
       "    channels: \"7\"\n",
       "    locations: \"OUT\"\n",
       "    details: \"Positioned in top-back-left and top-front-right corners of the chamber.\"\n",
       "    details: \"detalis2\"\n",
       "  }\n",
       "}\n",
       "acquisitions {\n",
       "  acquisition_hardware: \"IMEC\"\n",
       "  acquisition_software: \"spikeglx\"\n",
       "  neuralprobes {\n",
       "    acquisition_signal: \"neural\"\n",
       "    manufacturer: \"neuropixel\"\n",
       "    model: \"neuropixels_1\"\n",
       "    serial_number: \"U656\"\n",
       "    num_channels: 385\n",
       "    tip_depth_microns: 3500.0\n",
       "    implant_coordinates_microns: \"500, 2700, 3500\"\n",
       "    hemisphere: \"right\"\n",
       "    brain_nucleus: \"hvc\"\n",
       "    brain_nucleus: \"ra\"\n",
       "    headstage: \"neuropixel\"\n",
       "    channel_group: \"port_0\"\n",
       "    channels: \"1-385\"\n",
       "    details: \"details\"\n",
       "  }\n",
       "  sensors {\n",
       "    acquisition_signal: \"audio\"\n",
       "    manufacturer: \"earthworks\"\n",
       "    model: \"m30\"\n",
       "    serial_number: \"tuvieja\"\n",
       "    signal_name: \"mic_0\"\n",
       "    channel_group: \"AIN\"\n",
       "    channels: \"AIN0\"\n",
       "    locations: \"out\"\n",
       "    details: \"Positioned in top-back-left and top-front-right corners of the chamber.\"\n",
       "    details: \"detalis2\"\n",
       "  }\n",
       "  stimuli {\n",
       "    stimulus_signal: \"prerecorded video\"\n",
       "    manufacturer: \"inhouse\"\n",
       "    model: \"3 females in cage\"\n",
       "    channel_gropup: \"AIN\"\n",
       "    channels: \"aux_0\"\n",
       "    details: \"details\"\n",
       "  }\n",
       "}"
      ]
     },
     "execution_count": 16,
     "metadata": {},
     "output_type": "execute_result"
    }
   ],
   "source": [
    "# with open('test.json', 'r', encoding='utf8') as f:\n",
    "    \n",
    "message = Parse(json_string, metadata_pb2.Session())\n",
    "\n",
    "message"
   ]
  },
  {
   "cell_type": "code",
   "execution_count": 7,
   "metadata": {},
   "outputs": [
    {
     "data": {
      "text/plain": [
       "bird_sex: MALE\n",
       "bird_uid: \"x_x00x00_00\"\n",
       "date: \"2021-04-28\"\n",
       "time: \"23:02:47.213796\"\n",
       "testosterone_date: \"YYYY-MM-DD\"\n",
       "dummy_weight_date: \"YYYY-MM-DD\"\n",
       "dummy_tether_date: \"YYYY-MM-DD\"\n",
       "sess_uid: \"UNKNOWN_CONDITION-x_x00x00_00-20210428-23:02:47\"\n",
       "acquisitions {\n",
       "  acquisition_hardware: \"uma8-usb\"\n",
       "  acquisition_software: \"alsa\"\n",
       "  sensors {\n",
       "    acquisition_signal: \"audio\"\n",
       "    manufacturer: \"miniDSP\"\n",
       "    model: \"uma8raw\"\n",
       "    signal_name: \"audio_raw\"\n",
       "    channels: \"0-6\"\n",
       "    locations: \"OUT\"\n",
       "    details: \"Positioned in top-back-left and top-front-right corners of the chamber.\"\n",
       "    details: \"detalis2\"\n",
       "  }\n",
       "  sensors {\n",
       "    acquisition_signal: \"audio\"\n",
       "    manufacturer: \"miniDSP\"\n",
       "    model: \"uma8DSP\"\n",
       "    signal_name: \"audio_DSP\"\n",
       "    channels: \"7-8\"\n",
       "    locations: \"OUT\"\n",
       "    details: \"Positioned in top-back-left and top-front-right corners of the chamber.\"\n",
       "    details: \"detalis2\"\n",
       "  }\n",
       "  sensors {\n",
       "    acquisition_signal: \"sync_imec\"\n",
       "    manufacturer: \"inhouse\"\n",
       "    model: \"uma_syn\"\n",
       "    serial_number: \"uma_syn_001\"\n",
       "    signal_name: \"uma_syn_001\"\n",
       "    channel_group: \"PDM\"\n",
       "    channels: \"7\"\n",
       "    locations: \"OUT\"\n",
       "    details: \"Positioned in top-back-left and top-front-right corners of the chamber.\"\n",
       "    details: \"detalis2\"\n",
       "  }\n",
       "}\n",
       "acquisitions {\n",
       "  acquisition_hardware: \"IMEC\"\n",
       "  acquisition_software: \"spikeglx\"\n",
       "  neuralprobes {\n",
       "    acquisition_signal: \"neural\"\n",
       "    manufacturer: \"neuropixel\"\n",
       "    model: \"neuropixels_1\"\n",
       "    serial_number: \"U656\"\n",
       "    num_channels: 385\n",
       "    tip_depth_microns: 3500.0\n",
       "    implant_coordinates_microns: \"500, 2700, 3500\"\n",
       "    hemisphere: \"right\"\n",
       "    brain_nucleus: \"hvc\"\n",
       "    brain_nucleus: \"ra\"\n",
       "    headstage: \"neuropixel\"\n",
       "    channel_group: \"port_0\"\n",
       "    channels: \"1-385\"\n",
       "    details: \"details\"\n",
       "  }\n",
       "  sensors {\n",
       "    acquisition_signal: \"audio\"\n",
       "    manufacturer: \"earthworks\"\n",
       "    model: \"m30\"\n",
       "    serial_number: \"tuvieja\"\n",
       "    signal_name: \"mic_0\"\n",
       "    channel_group: \"AIN\"\n",
       "    channels: \"AIN0\"\n",
       "    locations: \"out\"\n",
       "    details: \"Positioned in top-back-left and top-front-right corners of the chamber.\"\n",
       "    details: \"detalis2\"\n",
       "  }\n",
       "  stimuli {\n",
       "    stimulus_signal: \"prerecorded video\"\n",
       "    manufacturer: \"inhouse\"\n",
       "    model: \"3 females in cage\"\n",
       "    channel_gropup: \"AIN\"\n",
       "    channels: \"aux_0\"\n",
       "    details: \"details\"\n",
       "  }\n",
       "}"
      ]
     },
     "execution_count": 7,
     "metadata": {},
     "output_type": "execute_result"
    }
   ],
   "source": [
    "metadata.save_metadata_json(metadata.sess, 'test.json')"
   ]
  },
  {
   "cell_type": "code",
   "execution_count": 5,
   "metadata": {},
   "outputs": [
    {
     "data": {
      "text/plain": [
       "bird_type: ZEBRA\n",
       "bird_sex: MALE\n",
       "bird_uid: \"z_m10g8_20\"\n",
       "date: \"2021-04-28\"\n",
       "time: \"11:08:31.313141\"\n",
       "weight_grams: 18.5\n",
       "testosterone_date: \"2021-03-10\"\n",
       "dummy_weight_grams: 0.6000000238418579\n",
       "dummy_weight_date: \"2021-03-10\"\n",
       "dummy_tether_date: \"2021-03-10\"\n",
       "condition: HABITUATION\n",
       "sess_uid: \"HABITUATION-z_m10g8_20-20210428-11:40:21\"\n",
       "box: \"cuervecito3\"\n",
       "details: \"dummy_weight + tether\"\n",
       "details: \"dummy_weight + tether\"\n",
       "details: \"dummy_weight + tether\"\n",
       "acquisitions {\n",
       "  acquisition_hardware: \"uma8-usb\"\n",
       "  acquisition_software: \"alsa\"\n",
       "  sensors {\n",
       "    acquisition_signal: \"audio\"\n",
       "    manufacturer: \"miniDSP\"\n",
       "    model: \"uma8raw\"\n",
       "    signal_name: \"audio_raw\"\n",
       "    channels: \"0-6\"\n",
       "    locations: \"OUT\"\n",
       "    details: \"Positioned in top-back-left and top-front-right corners of the chamber.\"\n",
       "    details: \"detalis2\"\n",
       "  }\n",
       "  sensors {\n",
       "    acquisition_signal: \"audio\"\n",
       "    manufacturer: \"miniDSP\"\n",
       "    model: \"uma8DSP\"\n",
       "    signal_name: \"audio_DSP\"\n",
       "    channels: \"7-8\"\n",
       "    locations: \"OUT\"\n",
       "    details: \"Positioned in top-back-left and top-front-right corners of the chamber.\"\n",
       "    details: \"detalis2\"\n",
       "  }\n",
       "}"
      ]
     },
     "execution_count": 5,
     "metadata": {},
     "output_type": "execute_result"
    }
   ],
   "source": [
    "# Example read bird metadata\n",
    "\n",
    "experiment_metadata_file = 'metadata.pickle'\n",
    "\n",
    "metadata.load_metadata_from_file(experiment_metadata_file)\n",
    "metadata.sess"
   ]
  },
  {
   "cell_type": "code",
   "execution_count": 2,
   "metadata": {},
   "outputs": [
    {
     "name": "stdout",
     "output_type": "stream",
     "text": [
      "bird_sex: MALE\n",
      "bird_uid: \"x_x00x00_00\"\n",
      "date: \"2021-05-07\"\n",
      "time: \"14:27:32.205722\"\n",
      "testosterone_date: \"YYYY-MM-DD\"\n",
      "dummy_weight_date: \"YYYY-MM-DD\"\n",
      "dummy_tether_date: \"YYYY-MM-DD\"\n",
      "sess_uid: \"UNKNOWN_CONDITION-x_x00x00_00-20210507-14:27:32\"\n",
      "\n",
      ".json file loaded correctly\n"
     ]
    },
    {
     "data": {
      "text/plain": [
       "bird_sex: MALE\n",
       "bird_uid: \"x_x00x00_00\"\n",
       "date: \"2021-05-07\"\n",
       "time: \"14:27:32.205722\"\n",
       "testosterone_date: \"YYYY-MM-DD\"\n",
       "dummy_weight_date: \"YYYY-MM-DD\"\n",
       "dummy_tether_date: \"YYYY-MM-DD\"\n",
       "sess_uid: \"UNKNOWN_CONDITION-x_x00x00_00-20210507-14:27:32\""
      ]
     },
     "execution_count": 2,
     "metadata": {},
     "output_type": "execute_result"
    }
   ],
   "source": [
    "from import_dictionary import *\n",
    "\n",
    "# Example read whole experiment metadata\n",
    "bird_metadata_file = 'test.json'\n",
    "\n",
    "metadata = ProtobufMetadata()\n",
    "print(metadata.sess)\n",
    "metadata.load_bird_metadata_from_file(bird_metadata_file)\n",
    "metadata.sess"
   ]
  },
  {
   "cell_type": "code",
   "execution_count": null,
   "metadata": {},
   "outputs": [],
   "source": []
  }
 ],
 "metadata": {
  "kernelspec": {
   "display_name": "Python 3",
   "language": "python",
   "name": "python3"
  },
  "language_info": {
   "codemirror_mode": {
    "name": "ipython",
    "version": 3
   },
   "file_extension": ".py",
   "mimetype": "text/x-python",
   "name": "python",
   "nbconvert_exporter": "python",
   "pygments_lexer": "ipython3",
   "version": "3.8.8"
  }
 },
 "nbformat": 4,
 "nbformat_minor": 4
}
