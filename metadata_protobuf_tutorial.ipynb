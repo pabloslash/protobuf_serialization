{
 "cells": [
  {
   "cell_type": "markdown",
   "metadata": {},
   "source": [
    "# Songbird Metadata with Protocol Buffers - Tutorial\n",
    "\n",
    "This is a guided tutorial that goes trhough the necessary steps to create a serialized protobuf, binary file (.pb) that contains the metadata that describes an experimental session.\n",
    "\n",
    "It also explains how to use the library: **import_dictionary.py**\n",
    "<br> This library adds functionality to managing the metadata, including reading, modifying and exporting the metadata to different formats."
   ]
  },
  {
   "cell_type": "markdown",
   "metadata": {},
   "source": [
    "## Example: Create metadata file for one bird.\n",
    "\n",
    "The first thing that you need to get familiar with, is the protobuf message that describes the feasible metadata. Please read [Metadata_Documentation](https://docs.google.com/document/d/1rPyEloN52eB-89N0Bfay9FWzm0Xa77S6vTqWd9M1cmQ/edit)\n",
    "<br> This document defines the fields that can be included in the metadata.\n",
    "\n",
    "## The following example will create metadata from scratch for a given bird and export it in a serialized metadata protobuf file (.pb) and a human-readable JSON format."
   ]
  },
  {
   "cell_type": "code",
   "execution_count": 1,
   "metadata": {},
   "outputs": [],
   "source": [
    "import os\n",
    "from importlib import reload \n",
    "import sys\n",
    "from metadata_API import * "
   ]
  },
  {
   "cell_type": "code",
   "execution_count": 2,
   "metadata": {},
   "outputs": [],
   "source": [
    "# 1) Define experiment metadata in a dictionary form (some fields are automatically filled, like date & time):\n",
    "\n",
    "bird_info = {\n",
    "    'bird_type': 'ZEBRA',                                # UNKNOWN_BIRDTYPE(0), ZEBRA(1), STARLING(2), BENGALESE(3)\n",
    "    'bird_sex': 'MALE',                                  # UNKNOWN_BIRDSEX(0), MALE(1), FEMALE(2)\n",
    "    'bird_uid': \"z_m10g8_20\",                            # string e.g. z_m10g8_20\n",
    "    'weight_grams': 18.3,                                # float\n",
    "    'testosterone': True,                                # bool: True / False\n",
    "    'testosterone_date': \"2021-03-10\",                   # string: e.g. 2021-03-10\n",
    "    'dummy_weight': True,                                # bool: True / False\n",
    "    'dummy_weight_grams': 0.6,                           # float\n",
    "    'dummy_weight_date': \"2021-03-10\",                   # string: e.g. 2021-03-10\n",
    "    'dummy_tether': True,                                # bool: True / False\n",
    "    'dummy_tether_date': \"2021-03-10\",                   # string: e.g. 2021-03-10\n",
    "    'condition': 'HABITUATION',                          # UNKNOWN_CONDITION(0), HABITUATION(1), CHRONIC(2), ACUTE(3)\n",
    "    'box': \"cuervecito3\",                                # string: e.g. passaro1, cuervecito3, shoox\n",
    "    'details': [\"dummy_weight + tether\"],                # repeated string: (Any additional info)\n",
    "}\n",
    "\n",
    "# 2) Create new protobuf message and add the defined information as metadata:\n",
    "\n",
    "metadata = ProtobufMetadata()              # New instance of metadata class. It is initialized with some default values (check metadata.sess)\n",
    "metadata.read_bird_metadata(bird_info)     # Add bird info to our metadata object (check metadata.sess has been updated). \n",
    "                                                # It ensures that each metadata field is in the expected format.\n",
    "\n",
    "# 3) Save metadata as serialized protobuf file (.pb) and as a human-readable (.json) file:\n",
    "filepath = os.getcwd() + '/'\n",
    "filename = metadata.sess.sess_uid + '_metadata'\n",
    "\n",
    "metadata.export_metadata_to_json(filepath + filename)\n",
    "metadata.serialize_metadata(filepath + filename)"
   ]
  },
  {
   "cell_type": "markdown",
   "metadata": {},
   "source": [
    "## The following example will load a serialized metadata protobuf file (.pb) and use the information it contains about the bird, add an acquisition message, and export a new metadata file.\n",
    "\n",
    "#### Let's now assume that we are going to run a new recording on an implanted bird. We want to create a new metadata file, but import some information from an old metadata file that we have for the bird."
   ]
  },
  {
   "cell_type": "code",
   "execution_count": 3,
   "metadata": {},
   "outputs": [],
   "source": [
    "bird_metadata = ProtobufMetadata()\n",
    "bird_metadata.parse_serialized_metadata(filepath + filename + '.pb') # This object has loaded the metadata from a different experimental session\n",
    "\n",
    "recording_metadata = ProtobufMetadata() # Creating a new metadata instace will create new time & date fields\n",
    "recording_metadata.read_bird_metadata(bird_metadata.sess) # Parse bird metadata from previous experiment to avoid having to recreate it"
   ]
  },
  {
   "cell_type": "markdown",
   "metadata": {},
   "source": [
    "#### Now imagine we wish to add the metadata corresponding to our recording session, that consists of 2 acquisions (one with Alsa & one with spikeGLX)"
   ]
  },
  {
   "cell_type": "code",
   "execution_count": 7,
   "metadata": {},
   "outputs": [],
   "source": [
    "# 1) Define experiment metadata in a dictionary form:\n",
    "\n",
    "# Acquisition 1: Audio sensor to PC - UMA8 recorded with Alsa\n",
    "sensor_uma8raw = {\n",
    "        'acquisition_signal': \"audio\",              # audio, audio, pressure, sync, emg, video \n",
    "        'manufacturer': \"miniDSP\",                  # miniDSP, earthworks, fujikura, inhouse, inhouse\n",
    "        'model': \"uma8raw\",                         # uma8, m30, fhm-20, uma8_sync, emg_amp_inhouse\n",
    "        #'serial_number': \"uma_\",                   # '', '', '', uma_syn_001, emg_amp_001\n",
    "        'signal_name': \"audio_raw\",                 # uma_syn_001, pressure, syn_uma8, emg, syn_stim, stim, …\n",
    "        #'headstage': nan,                          # '', '', intan32, \", intan32\n",
    "        #'channel_group': \"A\",                      # '', AIN, port_0, DIN, port_1\n",
    "        'channels': \"0-6\",                          # '', [0], [aux_0], [0], [aux_0, aux_1]\n",
    "        'locations': \"OUT\",                         # left, right, tracheal rings, muscles...\n",
    "        'details': [\"Positioned in top-back-left and top-front-right corners of the chamber.\", \"detalis2\"] # repeated string\n",
    "}\n",
    "sensor_uma8dsp = {\n",
    "        'acquisition_signal': \"audio\",              # audio, audio, pressure, sync, emg, video \n",
    "        'manufacturer': \"miniDSP\",                  # miniDSP, earthworks, fujikura, inhouse, inhouse\n",
    "        'model': \"uma8DSP\",                         # uma8, m30, fhm-20, uma8_sync, emg_amp_inhouse\n",
    "        #'serial_number': \"uma_syn_001\",            # '', '', '', uma_syn_001, emg_amp_001\n",
    "        'signal_name': \"audio_DSP\",                 # uma_syn_001, pressure, syn_uma8, emg, syn_stim, stim, …\n",
    "        #'headstage': nan,                          # '', '', intan32, \", intan32\n",
    "        #'channel_group': \"PDM\",                    # '', AIN, port_0, DIN, port_1\n",
    "        'channels': \"7-8\",                          # '', [0], [aux_0], [0], [aux_0, aux_1]\n",
    "        'locations': \"OUT\",                         # left, right, tracheal rings, muscles...\n",
    "        'details': [\"Positioned in top-back-left and top-front-right corners of the chamber.\", \"detalis2\"] # repeated string\n",
    "}  \n",
    "sensor_uma8syn = {\n",
    "        'acquisition_signal': \"sync_imec\",          # audio, audio, pressure, sync, emg, video \n",
    "        'manufacturer': \"inhouse\",                  # miniDSP, earthworks, fujikura, inhouse, inhouse\n",
    "        'model': \"uma_syn\",                         # uma8, m30, fhm-20, uma8_sync, emg_amp_inhouse\n",
    "        'serial_number': \"uma_syn_001\",             # '', '', '', uma_syn_001, emg_amp_001\n",
    "        'signal_name': \"uma_syn_001\",               # uma_syn_001, pressure, syn_uma8, emg, syn_stim, stim, …\n",
    "        #'headstage': nan,                          # '', '', intan32, \", intan32\n",
    "        'channel_group': \"PDM\",                     # '', AIN, port_0, DIN, port_1\n",
    "        'channels': \"7\",                            # '', [0], [aux_0], [0], [aux_0, aux_1]\n",
    "        'locations': \"OUT\",                         # left, right, tracheal rings, muscles...\n",
    "        'details': [\"Positioned in top-back-left and top-front-right corners of the chamber.\", \"detalis2\"] # repeated string\n",
    "}  \n",
    "acquisition_alsa = {  \n",
    "    'acquisition_hardware': \"uma8-usb\",  # openephys, intan, spikeglx, uma8, raspi, any custom amp\n",
    "    'acquisition_software': \"alsa\",      # openephys, openephys++, spikeglx, alsa, vlc\n",
    "    'sensors': [sensor_uma8raw, sensor_uma8dsp, sensor_uma8syn]            # repeated 'sensor message'\n",
    "}\n",
    "\n",
    "# Acquisition 2: Neural probe + video feedback to IMEC\n",
    "neuralprobe = {\n",
    "    'acquisition_signal': \"neural\",                     # string: e.g. neural\n",
    "    'manufacturer': \"neuropixel\",                       # string: neuronexus, neuropixel, masmanidis, inhouse\n",
    "    'model': \"neuropixels_1\",                           # string: buzsaki32, neuropixels_1\n",
    "    'serial_number': \"U656\",                            # string: U656\n",
    "    'num_channels': 385,                                # int32: 16, 32, 64, 384\n",
    "    'tip_depth_microns': 3500.0,                        # float: depth of the tip of the probe\n",
    "    'implant_coordinates_microns': \"500, 2700, 3500\",   # string: A/P, M/L, D/V\n",
    "    'hemisphere': \"right\",                              # string: left, right\n",
    "    'brain_nucleus': [\"hvc\", \"ra\"],                     # repeated string: hvc, ra, area_X\n",
    "    'headstage': \"neuropixel\",                          # string: e.g. H32\n",
    "    'channel_group': \"port_0\",                          # string: port_0, imec_0\n",
    "    'channels': \"1-385\",                                # string: e.g. 1-64,\n",
    "    'details': [\"details\"]                              # repeated string\n",
    "}\n",
    "sensor_micm30 = {\n",
    "    'acquisition_signal': \"audio\",                  # audio, audio, pressure, sync, emg, video \n",
    "    'manufacturer': \"earthworks\",                   # miniDSP, earthworks, fujikura, inhouse, inhouse\n",
    "    'model': \"m30\",                                 # uma8, m30, fhm-20, uma8_sync, emg_amp_inhouse\n",
    "    'serial_number': \"tuvieja\",                     # '', '', '', uma_syn_001, emg_amp_001\n",
    "    'signal_name': \"mic_0\",                         # uma_syn_001, pressure, syn_uma8, emg, syn_stim, stim, …\n",
    "    #'headstage': nan,                              # '', '', intan32, \", intan32\n",
    "    'amplifier': 'grace m1',\n",
    "    'channel_group': \"AIN\",                         # '', AIN, port_0, DIN, port_1\n",
    "    'channels': \"AIN0\",                             # '', [0], [aux_0], [0], [aux_0, aux_1]\n",
    "    'locations': \"out\",                             # left, right, tracheal rings, muscles...\n",
    "    'details': [\"Positioned in top-back-left and top-front-right corners of the chamber.\", \"detalis2\"] # repeated string\n",
    "}\n",
    "stimulus_video = {\n",
    "    'stimulus_signal': \"prerecorded video\",          # string: female, video, song_replay, neural_stim\n",
    "    'manufacturer': \"inhouse\",                       # string: '', inhouse, inhouse, neuronexus\n",
    "    'model': \"3 females in cage\",                    # string: '', '', '3 females in cage, buzsaki32\n",
    "    'serial_number': \"\",                             #\n",
    "    'channel_gropup': \"AIN\",                         # string: AIN, port_0, DIN, port_1\n",
    "    'channels': \"aux_0\",                             # string: [0], [aux_0], [0], [aux_0, aux_1]\n",
    "    'details': [\"details\"],                          # repeated string: Any additional info\n",
    "}               \n",
    "acquisition_spikeglx = {  \n",
    "    'acquisition_hardware': \"IMEC\",                  # openephys, intan, spikeglx, uma8, raspi, any custom amp\n",
    "    'acquisition_software': \"spikeglx\",              # openephys, openephys++, spikeglx, alsa, vlc\n",
    "    'neuralprobes': [neuralprobe],                   # repeated 'neuralprobes message' \n",
    "    'sensors': [sensor_micm30],                      # repeated 'sensor message'\n",
    "    'stimuli': [stimulus_video]                      # repeated 'stimuli message' \n",
    "}\n",
    "\n",
    "# Combined Acquisitions\n",
    "acquisitions_dict = {                                                \n",
    "    'acquisitions': [acquisition_alsa, acquisition_spikeglx]         # repeated 'acquisitions message'\n",
    "}\n",
    "\n",
    "# 2) Add acquisitions info to our metadata object (check recording_metadata.sess has been updated).\n",
    "recording_metadata.read_aquisitions_metadata(acquisitions_dict)  \n",
    "\n",
    "# 3) Save metadata as serialized protobuf file (.pb) and as a human-readable (.json) file:\n",
    "filepath = os.getcwd() + '/'\n",
    "filename = recording_metadata.sess.sess_uid + '_metadata'\n",
    "\n",
    "recording_metadata.export_metadata_to_json(filepath + filename)\n",
    "recording_metadata.serialize_metadata(filepath + filename)"
   ]
  },
  {
   "cell_type": "markdown",
   "metadata": {},
   "source": [
    "## The following example will load a metadata JSON file (.json) and the information it contains about the bird and acquisitions. It will then modify (add / delete / modify) some submessages and fileds, and export a new metadata file.\n",
    "\n"
   ]
  },
  {
   "cell_type": "markdown",
   "metadata": {},
   "source": [
    "#### Let's now assume that we are going to run an experiment similar to a previous one, but with a few differences."
   ]
  },
  {
   "cell_type": "markdown",
   "metadata": {},
   "source": [
    "1) Load the metadata for the previous experiment (.json)"
   ]
  },
  {
   "cell_type": "code",
   "execution_count": 8,
   "metadata": {},
   "outputs": [],
   "source": [
    "experiment_metadata = ProtobufMetadata()\n",
    "experiment_metadata.parse_metadata_from_json(filepath + filename + '.json') # This object has loaded the metadata from a different experimental session"
   ]
  },
  {
   "cell_type": "markdown",
   "metadata": {},
   "source": [
    "2) imagine we only have an audio acquisition system and would like to delete the spikeglx acquisition. We would also like to delete all sensors in the audio acquisition system:"
   ]
  },
  {
   "cell_type": "code",
   "execution_count": 9,
   "metadata": {},
   "outputs": [],
   "source": [
    "del(experiment_metadata.sess.acquisitions[1])\n",
    "experiment_metadata.delete_attribute(experiment_metadata.sess.acquisitions[0], 'sensors')"
   ]
  },
  {
   "cell_type": "markdown",
   "metadata": {},
   "source": [
    "3) Let's now assume that we would like to update some of the fields that we defined for our experiment metadata. We also would like to add a new sensor in the audio acquisition. We update the date & time of the metadata before we save it:"
   ]
  },
  {
   "cell_type": "code",
   "execution_count": 10,
   "metadata": {},
   "outputs": [],
   "source": [
    "# Modify bird metadata\n",
    "experiment_metadata.sess.bird_sex = 2   # 1(Male) 2(Female)\n",
    "experiment_metadata.sess.weight_grams = 17.3\n",
    "experiment_metadata.sess.testosterone = False\n",
    "experiment_metadata.sess.condition = 2  # 1(Habituation) 2(CHRONIC) 3(ACUTE) \n",
    "\n",
    "# Modify acquisition metadata and add a sensor to it\n",
    "experiment_metadata.sess.acquisitions[0].acquisition_hardware = 'raspberry Pi'\n",
    "experiment_metadata.sess.acquisitions[0].sensors.add()\n",
    "experiment_metadata.sess.acquisitions[0].sensors[0].acquisition_signal = 'audio'\n",
    "experiment_metadata.sess.acquisitions[0].sensors[0].manufacturer = 'earthworks'\n",
    "experiment_metadata.sess.acquisitions[0].sensors[0].model = 'm30'\n",
    "\n",
    "experiment_metadata.update_date_and_time()"
   ]
  },
  {
   "cell_type": "code",
   "execution_count": 11,
   "metadata": {},
   "outputs": [],
   "source": [
    "# 3) Save metadata as serialized protobuf file (.pb) and as a human-readable (.json) file:\n",
    "filepath = os.getcwd() + '/'\n",
    "filename = experiment_metadata.sess.sess_uid + '_metadata'\n",
    "\n",
    "experiment_metadata.export_metadata_to_json(filepath + filename)\n",
    "experiment_metadata.serialize_metadata(filepath + filename)"
   ]
  },
  {
   "cell_type": "markdown",
   "metadata": {},
   "source": [
    "TODO:\n",
    "    \n",
    "* Add default functions (like for bird), for acquisition, for sensor dict, for probe dict etc."
   ]
  }
 ],
 "metadata": {
  "kernelspec": {
   "display_name": "Python 3",
   "language": "python",
   "name": "python3"
  },
  "language_info": {
   "codemirror_mode": {
    "name": "ipython",
    "version": 3
   },
   "file_extension": ".py",
   "mimetype": "text/x-python",
   "name": "python",
   "nbconvert_exporter": "python",
   "pygments_lexer": "ipython3",
   "version": "3.8.8"
  }
 },
 "nbformat": 4,
 "nbformat_minor": 4
}
