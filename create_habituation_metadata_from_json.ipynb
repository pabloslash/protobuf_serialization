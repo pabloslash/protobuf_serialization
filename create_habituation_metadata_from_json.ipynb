{
 "cells": [
  {
   "cell_type": "code",
   "execution_count": 2,
   "metadata": {},
   "outputs": [],
   "source": [
    "#!/home/finch/anaconda3/bin/python\n",
    "\n",
    "# This script runs in the raspberry pis controlling the habituation environment of the zebra finches.\n",
    "# It reads a .json file containing the experiment metadata and exports a human-readable (.json) file and a serialized (.pb) file daily with the experimental session.\n",
    "\n",
    "import os\n",
    "import sys\n",
    "sys.path.append('~scripts/protobuf_serialization/')\n",
    "from metadata_API import * \n",
    "\n",
    "# 1) Create a metadata object\n",
    "metadata = ProtobufMetadata() # New instance of metadata class. It is initialized with some default values (check metadata.sess)\n",
    "\n",
    "# 2) Read metadata from .json file\n",
    "filepath = '~/'\n",
    "filename = 'default_bird_metadata'\n",
    "metadata.parse_metadata_from_json(filename + '.json') # This object has loaded the metadata from a different experimental session\n",
    "metadata.update_date_and_time()\n",
    "\n",
    "# 3) Save metadata as serialized protobuf file (.pb) and as a human-readable (.json) file for the session:\n",
    "filepath = os.getcwd() + '/'\n",
    "filename = metadata.sess.sess_uid + '_metadata'\n",
    "\n",
    "metadata.export_metadata_to_json(filepath + filename)\n",
    "metadata.serialize_metadata(filepath + filename)"
   ]
  }
 ],
 "metadata": {
  "kernelspec": {
   "display_name": "Python 3",
   "language": "python",
   "name": "python3"
  },
  "language_info": {
   "codemirror_mode": {
    "name": "ipython",
    "version": 3
   },
   "file_extension": ".py",
   "mimetype": "text/x-python",
   "name": "python",
   "nbconvert_exporter": "python",
   "pygments_lexer": "ipython3",
   "version": "3.8.8"
  }
 },
 "nbformat": 4,
 "nbformat_minor": 4
}
